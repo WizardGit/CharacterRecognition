{
 "cells": [
  {
   "cell_type": "markdown",
   "id": "c1fa2c4d",
   "metadata": {
    "papermill": {
     "duration": 0.011244,
     "end_time": "2022-03-11T03:56:18.364530",
     "exception": false,
     "start_time": "2022-03-11T03:56:18.353286",
     "status": "completed"
    },
    "tags": []
   },
   "source": [
    "<h3>Author: Kaiser Slocum</h3>\n",
    "<h3>Date Last Edited: 3/10/2022</h3>\n",
    "<h3>All Rights Reserved</h3>\n",
    "This is a model based on all uppercase and lowercase letters of the English alphabet (a-z)(A-Z)"
   ]
  },
  {
   "cell_type": "code",
   "execution_count": 1,
   "id": "452873ef",
   "metadata": {
    "execution": {
     "iopub.execute_input": "2022-03-11T03:56:18.401790Z",
     "iopub.status.busy": "2022-03-11T03:56:18.394859Z",
     "iopub.status.idle": "2022-03-11T03:56:41.466096Z",
     "shell.execute_reply": "2022-03-11T03:56:41.466701Z",
     "shell.execute_reply.started": "2022-03-07T01:49:11.158872Z"
    },
    "papermill": {
     "duration": 23.091064,
     "end_time": "2022-03-11T03:56:41.467004",
     "exception": false,
     "start_time": "2022-03-11T03:56:18.375940",
     "status": "completed"
    },
    "tags": []
   },
   "outputs": [
    {
     "name": "stdout",
     "output_type": "stream",
     "text": [
      "Collecting torchplot\r\n",
      "  Downloading torchplot-0.2.0.tar.gz (9.9 kB)\r\n",
      "  Installing build dependencies ... \u001b[?25l-\b \b\\\b \b|\b \b/\b \b-\b \bdone\r\n",
      "\u001b[?25h  Getting requirements to build wheel ... \u001b[?25l-\b \b\\\b \bdone\r\n",
      "\u001b[?25h  Preparing metadata (pyproject.toml) ... \u001b[?25l-\b \b\\\b \bdone\r\n",
      "\u001b[?25hRequirement already satisfied: matplotlib>=3.1.3 in /opt/conda/lib/python3.7/site-packages (from torchplot) (3.5.1)\r\n",
      "Requirement already satisfied: torch>=1.3 in /opt/conda/lib/python3.7/site-packages (from torchplot) (1.9.1)\r\n",
      "Requirement already satisfied: cycler>=0.10 in /opt/conda/lib/python3.7/site-packages (from matplotlib>=3.1.3->torchplot) (0.11.0)\r\n",
      "Requirement already satisfied: numpy>=1.17 in /opt/conda/lib/python3.7/site-packages (from matplotlib>=3.1.3->torchplot) (1.20.3)\r\n",
      "Requirement already satisfied: pillow>=6.2.0 in /opt/conda/lib/python3.7/site-packages (from matplotlib>=3.1.3->torchplot) (8.2.0)\r\n",
      "Requirement already satisfied: python-dateutil>=2.7 in /opt/conda/lib/python3.7/site-packages (from matplotlib>=3.1.3->torchplot) (2.8.2)\r\n",
      "Requirement already satisfied: pyparsing>=2.2.1 in /opt/conda/lib/python3.7/site-packages (from matplotlib>=3.1.3->torchplot) (3.0.6)\r\n",
      "Requirement already satisfied: packaging>=20.0 in /opt/conda/lib/python3.7/site-packages (from matplotlib>=3.1.3->torchplot) (21.3)\r\n",
      "Requirement already satisfied: fonttools>=4.22.0 in /opt/conda/lib/python3.7/site-packages (from matplotlib>=3.1.3->torchplot) (4.28.4)\r\n",
      "Requirement already satisfied: kiwisolver>=1.0.1 in /opt/conda/lib/python3.7/site-packages (from matplotlib>=3.1.3->torchplot) (1.3.2)\r\n",
      "Requirement already satisfied: typing-extensions in /opt/conda/lib/python3.7/site-packages (from torch>=1.3->torchplot) (4.0.1)\r\n",
      "Requirement already satisfied: six>=1.5 in /opt/conda/lib/python3.7/site-packages (from python-dateutil>=2.7->matplotlib>=3.1.3->torchplot) (1.16.0)\r\n",
      "Building wheels for collected packages: torchplot\r\n",
      "  Building wheel for torchplot (pyproject.toml) ... \u001b[?25l-\b \b\\\b \b|\b \b/\b \bdone\r\n",
      "\u001b[?25h  Created wheel for torchplot: filename=torchplot-0.2.0-py3-none-any.whl size=8327 sha256=f528cfdcfd0a8e16da4e5ea319273b0d26f65092569c1e32ec6ad1f015fa2f21\r\n",
      "  Stored in directory: /root/.cache/pip/wheels/10/2c/51/20e41cb36ecf77321dfab07bc2119951e030e717222d78d742\r\n",
      "Successfully built torchplot\r\n",
      "Installing collected packages: torchplot\r\n",
      "Successfully installed torchplot-0.2.0\r\n",
      "\u001b[33mWARNING: Running pip as the 'root' user can result in broken permissions and conflicting behaviour with the system package manager. It is recommended to use a virtual environment instead: https://pip.pypa.io/warnings/venv\u001b[0m\r\n",
      "PyTorch Version:  1.9.1\n",
      "Torchvision Version:  0.10.1\n",
      "We will be using the: cuda\n"
     ]
    }
   ],
   "source": [
    "#This is for Google Collab Notebook - it doesn't have torchplot installed!\n",
    "!pip install torchplot\n",
    "# Here we are importing the necessary libraries\n",
    "import numpy as np\n",
    "import torch\n",
    "import torch.nn.functional as F\n",
    "import torchvision\n",
    "import matplotlib.pyplot as plt\n",
    "import torchplot as tplt\n",
    "import numpy as np\n",
    "import torch.optim as optim\n",
    "\n",
    "from torch import nn\n",
    "from torch import optim\n",
    "from torchvision import datasets, models, transforms\n",
    "from tqdm import tqdm\n",
    "from torch.utils.data import DataLoader, sampler, random_split\n",
    "\n",
    "print(\"PyTorch Version: \",torch.__version__)\n",
    "print(\"Torchvision Version: \",torchvision.__version__)\n",
    "device = torch.device(\"cuda\" if torch.cuda.is_available() else \"cpu\")\n",
    "print(\"We will be using the:\", device)"
   ]
  },
  {
   "cell_type": "code",
   "execution_count": 2,
   "id": "317dc37d",
   "metadata": {
    "execution": {
     "iopub.execute_input": "2022-03-11T03:56:41.510296Z",
     "iopub.status.busy": "2022-03-11T03:56:41.509538Z",
     "iopub.status.idle": "2022-03-11T03:57:06.687614Z",
     "shell.execute_reply": "2022-03-11T03:57:06.688298Z",
     "shell.execute_reply.started": "2022-03-07T01:49:33.991441Z"
    },
    "papermill": {
     "duration": 25.2025,
     "end_time": "2022-03-11T03:57:06.688515",
     "exception": false,
     "start_time": "2022-03-11T03:56:41.486015",
     "status": "completed"
    },
    "tags": []
   },
   "outputs": [
    {
     "name": "stdout",
     "output_type": "stream",
     "text": [
      "Downloading https://www.itl.nist.gov/iaui/vip/cs_links/EMNIST/gzip.zip to ./EMNIST/raw/gzip.zip\n"
     ]
    },
    {
     "data": {
      "application/vnd.jupyter.widget-view+json": {
       "model_id": "67b5de6bdc0041099729ef5193485a55",
       "version_major": 2,
       "version_minor": 0
      },
      "text/plain": [
       "  0%|          | 0/561753746 [00:00<?, ?it/s]"
      ]
     },
     "metadata": {},
     "output_type": "display_data"
    },
    {
     "name": "stdout",
     "output_type": "stream",
     "text": [
      "Extracting ./EMNIST/raw/gzip.zip to ./EMNIST/raw\n",
      "27\n"
     ]
    },
    {
     "name": "stderr",
     "output_type": "stream",
     "text": [
      "/opt/conda/lib/python3.7/site-packages/torchvision/datasets/mnist.py:498: UserWarning: The given NumPy array is not writeable, and PyTorch does not support non-writeable tensors. This means you can write to the underlying (supposedly non-writeable) NumPy array using the tensor. You may want to copy the array to protect its data or make it writeable before converting it to a tensor. This type of warning will be suppressed for the rest of this program. (Triggered internally at  /usr/local/src/pytorch/torch/csrc/utils/tensor_numpy.cpp:174.)\n",
      "  return torch.from_numpy(parsed.astype(m[2], copy=False)).view(*s)\n"
     ]
    }
   ],
   "source": [
    "transform = transforms.Compose([\n",
    "            transforms.Grayscale(num_output_channels=3),\n",
    "            transforms.Resize(227),\n",
    "            transforms.CenterCrop(227),\n",
    "            transforms.ToTensor(),\n",
    "            transforms.Normalize((0.485, 0.456, 0.406), (0.229, 0.224, 0.225)),\n",
    "])\n",
    "\n",
    "# Our two datasets\n",
    "emnist_dataset = datasets.EMNIST(root='./', split='letters', train=True, download=True, transform=transform)\n",
    "print(len(emnist_dataset.classes))\n",
    "# Load dataset\n",
    "train_dataset = DataLoader(emnist_dataset,batch_size=10)"
   ]
  },
  {
   "cell_type": "code",
   "execution_count": 3,
   "id": "de246f81",
   "metadata": {
    "execution": {
     "iopub.execute_input": "2022-03-11T03:57:06.738277Z",
     "iopub.status.busy": "2022-03-11T03:57:06.734423Z",
     "iopub.status.idle": "2022-03-11T03:57:07.126663Z",
     "shell.execute_reply": "2022-03-11T03:57:07.126042Z",
     "shell.execute_reply.started": "2022-03-07T01:49:59.183346Z"
    },
    "papermill": {
     "duration": 0.417043,
     "end_time": "2022-03-11T03:57:07.126793",
     "exception": false,
     "start_time": "2022-03-11T03:57:06.709750",
     "status": "completed"
    },
    "tags": []
   },
   "outputs": [
    {
     "data": {
      "text/plain": [
       "<matplotlib.image.AxesImage at 0x7fb812da5d50>"
      ]
     },
     "execution_count": 3,
     "metadata": {},
     "output_type": "execute_result"
    },
    {
     "data": {
      "image/png": "[encoded data removed]",
      "text/plain": [
       "<Figure size 432x288 with 2 Axes>"
      ]
     },
     "metadata": {
      "needs_background": "light"
     },
     "output_type": "display_data"
    }
   ],
   "source": [
    "data = iter(train_dataset) # Let's iterate on it\n",
    "single_point = next(data)\n",
    "ToPIL = transforms.ToPILImage() # Converting function\n",
    "img0 = ToPIL(single_point[0][0])\n",
    "img1 = ToPIL(single_point[0][1])\n",
    "# Plotting\n",
    "fig, axs = plt.subplots(1,2)\n",
    "axs[0].imshow(img0)\n",
    "axs[1].imshow(img1)"
   ]
  },
  {
   "cell_type": "code",
   "execution_count": 4,
   "id": "cee29255",
   "metadata": {
    "execution": {
     "iopub.execute_input": "2022-03-11T03:57:07.184279Z",
     "iopub.status.busy": "2022-03-11T03:57:07.183425Z",
     "iopub.status.idle": "2022-03-11T03:57:07.186225Z",
     "shell.execute_reply": "2022-03-11T03:57:07.185762Z",
     "shell.execute_reply.started": "2022-03-07T01:49:59.722553Z"
    },
    "papermill": {
     "duration": 0.036679,
     "end_time": "2022-03-11T03:57:07.186342",
     "exception": false,
     "start_time": "2022-03-11T03:57:07.149663",
     "status": "completed"
    },
    "tags": []
   },
   "outputs": [],
   "source": [
    "class LeNet(nn.Module):\n",
    "    def __init__(self, nclasses=68):\n",
    "        super().__init__()\n",
    "        self.conv1 = nn.Conv2d(1, 6,5,padding=2)\n",
    "        self.conv2 = nn.Conv2d(6,16,5, padding=0)\n",
    "        self.fc1 = nn.Linear(5*5*16, 120)\n",
    "        self.fc2 = nn.Linear(120, 84)\n",
    "        self.fc3 = nn.Linear(84,nclasses)\n",
    "        \n",
    "    def forward(self, x):\n",
    "        x = torch.sigmoid(self.conv1(x))\n",
    "        x =  nn.MaxPool2d(kernel_size=2, stride=2)(x)\n",
    "        x = torch.sigmoid(self.conv2(x))\n",
    "        x =  nn.MaxPool2d(kernel_size=2, stride=2)(x)\n",
    "        \n",
    "        x = x.view(-1, 5*5*16)\n",
    "        \n",
    "        x = torch.sigmoid(self.fc1(x))\n",
    "        x = torch.sigmoid(self.fc2(x))\n",
    "        x = self.fc3(x)\n",
    "        return x"
   ]
  },
  {
   "cell_type": "code",
   "execution_count": 5,
   "id": "38bea540",
   "metadata": {
    "execution": {
     "iopub.execute_input": "2022-03-11T03:57:07.245057Z",
     "iopub.status.busy": "2022-03-11T03:57:07.244191Z",
     "iopub.status.idle": "2022-03-11T03:57:07.246261Z",
     "shell.execute_reply": "2022-03-11T03:57:07.246662Z",
     "shell.execute_reply.started": "2022-03-07T01:50:01.48495Z"
    },
    "papermill": {
     "duration": 0.037416,
     "end_time": "2022-03-11T03:57:07.246823",
     "exception": false,
     "start_time": "2022-03-11T03:57:07.209407",
     "status": "completed"
    },
    "tags": []
   },
   "outputs": [],
   "source": [
    "class AlexNet(nn.Module):\n",
    "    def __init__(self, nclasses=68):\n",
    "        super(AlexNet, self).__init__()\n",
    "        self.conv1 = nn.Conv2d(in_channels=3, out_channels= 96, kernel_size= 11, stride=4, padding=0 )\n",
    "        self.maxpool = nn.MaxPool2d(kernel_size=3, stride=2)\n",
    "        self.conv2 = nn.Conv2d(in_channels=96, out_channels=256, kernel_size=5, stride= 1, padding= 2)\n",
    "        self.conv3 = nn.Conv2d(in_channels=256, out_channels=384, kernel_size=3, stride= 1, padding= 1)\n",
    "        self.conv4 = nn.Conv2d(in_channels=384, out_channels=384, kernel_size=3, stride=1, padding=1)\n",
    "        self.conv5 = nn.Conv2d(in_channels=384, out_channels=256, kernel_size=3, stride=1, padding=1)\n",
    "        self.fc1  = nn.Linear(in_features= 9216, out_features= 4096)\n",
    "        self.fc2  = nn.Linear(in_features= 4096, out_features= 4096)\n",
    "        self.fc3 = nn.Linear(in_features=4096 , out_features=nclasses)\n",
    "\n",
    "\n",
    "    def forward(self,x):\n",
    "        x = F.relu(self.conv1(x))\n",
    "        x = self.maxpool(x)\n",
    "        x = F.relu(self.conv2(x))\n",
    "        x = self.maxpool(x)\n",
    "        x = F.relu(self.conv3(x))\n",
    "        x = F.relu(self.conv4(x))\n",
    "        x = F.relu(self.conv5(x))\n",
    "        x = self.maxpool(x)\n",
    "        x = x.reshape(x.shape[0], -1)\n",
    "        x = F.relu(self.fc1(x))\n",
    "        x = F.relu(self.fc2(x))\n",
    "        x = self.fc3(x)\n",
    "        return x"
   ]
  },
  {
   "cell_type": "code",
   "execution_count": 6,
   "id": "024d8702",
   "metadata": {
    "execution": {
     "iopub.execute_input": "2022-03-11T03:57:07.308557Z",
     "iopub.status.busy": "2022-03-11T03:57:07.306830Z",
     "iopub.status.idle": "2022-03-11T03:57:07.309140Z",
     "shell.execute_reply": "2022-03-11T03:57:07.309600Z",
     "shell.execute_reply.started": "2022-03-07T01:50:01.500893Z"
    },
    "papermill": {
     "duration": 0.037714,
     "end_time": "2022-03-11T03:57:07.309753",
     "exception": false,
     "start_time": "2022-03-11T03:57:07.272039",
     "status": "completed"
    },
    "tags": []
   },
   "outputs": [],
   "source": [
    "# Will append the test accuracy to the test_accuracy_history[]\n",
    "def evaluate(model, test_data, test_accuracy_history, test_image_datasets_len):\n",
    "    with torch.no_grad():\n",
    "        test_accuracy = 0\n",
    "        for (data, label) in test_data:\n",
    "            data = data.to(device)\n",
    "            label = label.to(device)\n",
    "            out = model(data)\n",
    "            answers = out.max(dim=1)[1]\n",
    "            test_accuracy += (answers == label).sum()\n",
    "    # Append the testing accuracy\n",
    "    test_accuracy = test_accuracy / test_image_datasets_len * 100\n",
    "    test_accuracy_history.append(test_accuracy)\n",
    "    return test_accuracy\n",
    "# Does not accept the test_accuracy_history[]\n",
    "def evaluateAcc(model, test_data, test_data_len):\n",
    "    with torch.no_grad():\n",
    "        test_accuracy = 0\n",
    "        for (data, label) in test_data:\n",
    "            data = data.to(device)\n",
    "            label = label.to(device)\n",
    "            out = model(data)\n",
    "            answers = out.max(dim=1)[1]\n",
    "            test_accuracy += (answers == label).sum()\n",
    "    # Append the testing accuracy\n",
    "    test_accuracy = test_accuracy / test_data_len * 100\n",
    "    return test_accuracy"
   ]
  },
  {
   "cell_type": "code",
   "execution_count": 7,
   "id": "06c43d75",
   "metadata": {
    "execution": {
     "iopub.execute_input": "2022-03-11T03:57:07.362768Z",
     "iopub.status.busy": "2022-03-11T03:57:07.361815Z",
     "iopub.status.idle": "2022-03-11T03:57:07.363609Z",
     "shell.execute_reply": "2022-03-11T03:57:07.364049Z",
     "shell.execute_reply.started": "2022-03-07T01:50:01.513267Z"
    },
    "papermill": {
     "duration": 0.032074,
     "end_time": "2022-03-11T03:57:07.364192",
     "exception": false,
     "start_time": "2022-03-11T03:57:07.332118",
     "status": "completed"
    },
    "tags": []
   },
   "outputs": [],
   "source": [
    "def super_plotter(loss_history, test_accuracy_history, train_accuracy_history):\n",
    "    # Plot the loss per iteration\n",
    "    tplt.plot(loss_history, label=\"Loss\")\n",
    "    tplt.title(\"Neural Network Loss\")\n",
    "    tplt.xlabel(\"Number of iterations\")\n",
    "    tplt.ylabel(\"Loss History\")\n",
    "    tplt.legend(loc='upper right')\n",
    "    tplt.show()\n",
    "    # Plot the accuracy per epoch\n",
    "    tplt.plot(test_accuracy_history, label=\"Test\")\n",
    "    tplt.plot(train_accuracy_history, label=\"Train\")\n",
    "    tplt.title(\"Neural Network Accuracy\")\n",
    "    tplt.xlabel(\"Epoch Number\")\n",
    "    tplt.ylabel(\"Accuracy\")\n",
    "    tplt.legend(loc='lower right')\n",
    "    tplt.show()"
   ]
  },
  {
   "cell_type": "code",
   "execution_count": 8,
   "id": "29791401",
   "metadata": {
    "execution": {
     "iopub.execute_input": "2022-03-11T03:57:07.421985Z",
     "iopub.status.busy": "2022-03-11T03:57:07.421142Z",
     "iopub.status.idle": "2022-03-11T03:57:07.423512Z",
     "shell.execute_reply": "2022-03-11T03:57:07.423075Z",
     "shell.execute_reply.started": "2022-03-07T01:50:01.525622Z"
    },
    "papermill": {
     "duration": 0.034756,
     "end_time": "2022-03-11T03:57:07.423631",
     "exception": false,
     "start_time": "2022-03-11T03:57:07.388875",
     "status": "completed"
    },
    "tags": []
   },
   "outputs": [],
   "source": [
    "def super_model_trainer(model, train_dataset, train_dataloader, test_dataset, test_dataloader, batch_size, optimizer, nepochs): \n",
    "    model.train()\n",
    "    loss_history = []\n",
    "    test_accuracy_history = []\n",
    "    train_accuracy_history = []\n",
    "    loss = torch.Tensor([0])\n",
    "    for epoch in tqdm(range(nepochs), desc=f\"Epoch\", unit=\"epoch\", disable=False):\n",
    "        accuracy = 0\n",
    "        for (data, label) in tqdm(train_dataloader, desc=\"iteration\", unit=\"%\", disable=True):\n",
    "            # Here we clear the gradients\n",
    "            optimizer.zero_grad(set_to_none=True)        \n",
    "            # We need to make sure the tensors are on the same device as our model\n",
    "            data = data.to(device)\n",
    "            label = label.to(device)\n",
    "            out = model(data)\n",
    "        \n",
    "            loss = LossFunction(out, label)\n",
    "        \n",
    "            loss.backward() # This function calculates all our gradients\n",
    "            optimizer.step() # This function does our gradient descent with those gradients\n",
    "            loss_history.append(loss.item())\n",
    "            answers = out.max(dim=1)[1]\n",
    "            accuracy += (answers == label).sum()\n",
    "        # Append the training accuracy\n",
    "        accuracy = accuracy / len(train_dataset)*100\n",
    "        train_accuracy_history.append(accuracy)\n",
    "    \n",
    "        #let's get the test accuracy to see how well it generalizes\n",
    "        test_accuracy = evaluate(model, test_dataloader, test_accuracy_history, len(test_dataset))\n",
    "        #Print the results\n",
    "        print(f\"Epoch: {epoch} \\n Loss: {loss.item()} \\n Train Accuracy: {accuracy:.2f}% \\n Test Accuracy: {test_accuracy:.2f}%\")\n",
    "    super_plotter(loss_history, test_accuracy_history, train_accuracy_history)"
   ]
  },
  {
   "cell_type": "code",
   "execution_count": 9,
   "id": "49af4db2",
   "metadata": {
    "execution": {
     "iopub.execute_input": "2022-03-11T03:57:07.482742Z",
     "iopub.status.busy": "2022-03-11T03:57:07.473873Z",
     "iopub.status.idle": "2022-03-11T04:27:46.681406Z",
     "shell.execute_reply": "2022-03-11T04:27:46.680694Z",
     "shell.execute_reply.started": "2022-03-07T01:52:34.304985Z"
    },
    "papermill": {
     "duration": 1839.23372,
     "end_time": "2022-03-11T04:27:46.681564",
     "exception": false,
     "start_time": "2022-03-11T03:57:07.447844",
     "status": "completed"
    },
    "tags": []
   },
   "outputs": [
    {
     "name": "stdout",
     "output_type": "stream",
     "text": [
      "AlexNet(\n",
      "  (conv1): Conv2d(3, 96, kernel_size=(11, 11), stride=(4, 4))\n",
      "  (maxpool): MaxPool2d(kernel_size=3, stride=2, padding=0, dilation=1, ceil_mode=False)\n",
      "  (conv2): Conv2d(96, 256, kernel_size=(5, 5), stride=(1, 1), padding=(2, 2))\n",
      "  (conv3): Conv2d(256, 384, kernel_size=(3, 3), stride=(1, 1), padding=(1, 1))\n",
      "  (conv4): Conv2d(384, 384, kernel_size=(3, 3), stride=(1, 1), padding=(1, 1))\n",
      "  (conv5): Conv2d(384, 256, kernel_size=(3, 3), stride=(1, 1), padding=(1, 1))\n",
      "  (fc1): Linear(in_features=9216, out_features=4096, bias=True)\n",
      "  (fc2): Linear(in_features=4096, out_features=4096, bias=True)\n",
      "  (fc3): Linear(in_features=4096, out_features=27, bias=True)\n",
      ")\n"
     ]
    },
    {
     "name": "stderr",
     "output_type": "stream",
     "text": [
      "Epoch:  20%|██        | 1/5 [06:09<24:39, 369.95s/epoch]"
     ]
    },
    {
     "name": "stdout",
     "output_type": "stream",
     "text": [
      "Epoch: 0 \n",
      " Loss: 0.2615799009799957 \n",
      " Train Accuracy: 84.91% \n",
      " Test Accuracy: 89.82%\n"
     ]
    },
    {
     "name": "stderr",
     "output_type": "stream",
     "text": [
      "Epoch:  40%|████      | 2/5 [12:15<18:21, 367.18s/epoch]"
     ]
    },
    {
     "name": "stdout",
     "output_type": "stream",
     "text": [
      "Epoch: 1 \n",
      " Loss: 0.15112464129924774 \n",
      " Train Accuracy: 92.38% \n",
      " Test Accuracy: 91.72%\n"
     ]
    },
    {
     "name": "stderr",
     "output_type": "stream",
     "text": [
      "Epoch:  60%|██████    | 3/5 [18:21<12:13, 366.80s/epoch]"
     ]
    },
    {
     "name": "stdout",
     "output_type": "stream",
     "text": [
      "Epoch: 2 \n",
      " Loss: 0.2404174655675888 \n",
      " Train Accuracy: 93.03% \n",
      " Test Accuracy: 92.67%\n"
     ]
    },
    {
     "name": "stderr",
     "output_type": "stream",
     "text": [
      "Epoch:  80%|████████  | 4/5 [24:27<06:06, 366.30s/epoch]"
     ]
    },
    {
     "name": "stdout",
     "output_type": "stream",
     "text": [
      "Epoch: 3 \n",
      " Loss: 0.3531104028224945 \n",
      " Train Accuracy: 93.77% \n",
      " Test Accuracy: 92.81%\n"
     ]
    },
    {
     "name": "stderr",
     "output_type": "stream",
     "text": [
      "Epoch: 100%|██████████| 5/5 [30:35<00:00, 367.07s/epoch]"
     ]
    },
    {
     "name": "stdout",
     "output_type": "stream",
     "text": [
      "Epoch: 4 \n",
      " Loss: 0.2860681414604187 \n",
      " Train Accuracy: 94.18% \n",
      " Test Accuracy: 93.29%\n"
     ]
    },
    {
     "name": "stderr",
     "output_type": "stream",
     "text": [
      "\n"
     ]
    },
    {
     "data": {
      "image/png": "[encoded data removed]",
      "text/plain": [
       "<Figure size 432x288 with 1 Axes>"
      ]
     },
     "metadata": {
      "needs_background": "light"
     },
     "output_type": "display_data"
    },
    {
     "data": {
      "image/png": "[encoded data removed]",
      "text/plain": [
       "<Figure size 432x288 with 1 Axes>"
      ]
     },
     "metadata": {
      "needs_background": "light"
     },
     "output_type": "display_data"
    }
   ],
   "source": [
    "# Let's set up some parameters\n",
    "learning_rate=0.001\n",
    "nepochs = 5\n",
    "nclasses=27\n",
    "batch_size = 64\n",
    "\n",
    "model = AlexNet(nclasses).to(device)\n",
    "print(model)\n",
    "\n",
    "optimizer = torch.optim.Adam(model.parameters(), learning_rate)\n",
    "LossFunction = nn.CrossEntropyLoss()\n",
    "\n",
    "transformAlexNet = transforms.Compose([\n",
    "            transforms.Grayscale(num_output_channels=3),\n",
    "            transforms.Resize(227),\n",
    "            transforms.CenterCrop(227),\n",
    "            transforms.ToTensor(),\n",
    "            transforms.Normalize((0.485, 0.456, 0.406), (0.229, 0.224, 0.225))])\n",
    "transformLeNet = transforms.Compose([\n",
    "            transforms.Grayscale(num_output_channels=1),\n",
    "            transforms.Resize(28),\n",
    "            transforms.CenterCrop(28),\n",
    "            transforms.ToTensor()])\n",
    "\n",
    "transform = transformAlexNet\n",
    "\n",
    "# Create the emnist train and test datasets\n",
    "emnist_train_dataset = datasets.EMNIST(root='./', split='letters', train=True, download=True, transform=transform)\n",
    "emnist_test_dataset = datasets.EMNIST(root='./', split='letters', train=False, download=False, transform=transform)\n",
    "\n",
    "# Combine the train and test datasets and shuffle them together\n",
    "train_dataset = emnist_train_dataset\n",
    "train_dataloader = DataLoader(train_dataset,batch_size=batch_size,shuffle=True)\n",
    "test_dataset = emnist_test_dataset\n",
    "test_dataloader = DataLoader(test_dataset,batch_size=batch_size,shuffle=True)\n",
    "\n",
    "#Training \n",
    "super_model_trainer(model, train_dataset, train_dataloader, test_dataset, test_dataloader, batch_size, optimizer, nepochs)"
   ]
  },
  {
   "cell_type": "code",
   "execution_count": 10,
   "id": "1f19b4a4",
   "metadata": {
    "execution": {
     "iopub.execute_input": "2022-03-11T04:27:46.744287Z",
     "iopub.status.busy": "2022-03-11T04:27:46.742091Z",
     "iopub.status.idle": "2022-03-11T04:28:24.150580Z",
     "shell.execute_reply": "2022-03-11T04:28:24.151025Z",
     "shell.execute_reply.started": "2022-03-06T22:49:38.026005Z"
    },
    "papermill": {
     "duration": 37.441381,
     "end_time": "2022-03-11T04:28:24.151180",
     "exception": false,
     "start_time": "2022-03-11T04:27:46.709799",
     "status": "completed"
    },
    "tags": []
   },
   "outputs": [
    {
     "name": "stdout",
     "output_type": "stream",
     "text": [
      "EMNIST Accuracy: 93.29%\n"
     ]
    }
   ],
   "source": [
    "test_data_emnist = DataLoader(emnist_test_dataset,batch_size=batch_size,shuffle=True)\n",
    "test_accuracy_emnist = evaluateAcc(model, test_data_emnist, len(emnist_test_dataset))\n",
    "\n",
    "#Print the results\n",
    "print(f\"EMNIST Accuracy: {test_accuracy_emnist:.2f}%\")"
   ]
  }
 ],
 "metadata": {
  "kernelspec": {
   "display_name": "Python 3",
   "language": "python",
   "name": "python3"
  },
  "language_info": {
   "codemirror_mode": {
    "name": "ipython",
    "version": 3
   },
   "file_extension": ".py",
   "mimetype": "text/x-python",
   "name": "python",
   "nbconvert_exporter": "python",
   "pygments_lexer": "ipython3",
   "version": "3.7.12"
  },
  "papermill": {
   "default_parameters": {},
   "duration": 1935.913732,
   "end_time": "2022-03-11T04:28:25.698584",
   "environment_variables": {},
   "exception": null,
   "input_path": "__notebook__.ipynb",
   "output_path": "__notebook__.ipynb",
   "parameters": {},
   "start_time": "2022-03-11T03:56:09.784852",
   "version": "2.3.3"
  },
  "widgets": {
   "application/vnd.jupyter.widget-state+json": {
    "state": {
     "09d7613d8bb9486ca4397d593d6e2f0e": {
      "model_module": "@jupyter-widgets/base",
      "model_module_version": "1.2.0",
      "model_name": "LayoutModel",
      "state": {
       "_model_module": "@jupyter-widgets/base",
       "_model_module_version": "1.2.0",
       "_model_name": "LayoutModel",
       "_view_count": null,
       "_view_module": "@jupyter-widgets/base",
       "_view_module_version": "1.2.0",
       "_view_name": "LayoutView",
       "align_content": null,
       "align_items": null,
       "align_self": null,
       "border": null,
       "bottom": null,
       "display": null,
       "flex": null,
       "flex_flow": null,
       "grid_area": null,
       "grid_auto_columns": null,
       "grid_auto_flow": null,
       "grid_auto_rows": null,
       "grid_column": null,
       "grid_gap": null,
       "grid_row": null,
       "grid_template_areas": null,
       "grid_template_columns": null,
       "grid_template_rows": null,
       "height": null,
       "justify_content": null,
       "justify_items": null,
       "left": null,
       "margin": null,
       "max_height": null,
       "max_width": null,
       "min_height": null,
       "min_width": null,
       "object_fit": null,
       "object_position": null,
       "order": null,
       "overflow": null,
       "overflow_x": null,
       "overflow_y": null,
       "padding": null,
       "right": null,
       "top": null,
       "visibility": null,
       "width": null
      }
     },
     "27700591208c4eaabbe9dd4ee511ea0a": {
      "model_module": "@jupyter-widgets/base",
      "model_module_version": "1.2.0",
      "model_name": "LayoutModel",
      "state": {
       "_model_module": "@jupyter-widgets/base",
       "_model_module_version": "1.2.0",
       "_model_name": "LayoutModel",
       "_view_count": null,
       "_view_module": "@jupyter-widgets/base",
       "_view_module_version": "1.2.0",
       "_view_name": "LayoutView",
       "align_content": null,
       "align_items": null,
       "align_self": null,
       "border": null,
       "bottom": null,
       "display": null,
       "flex": null,
       "flex_flow": null,
       "grid_area": null,
       "grid_auto_columns": null,
       "grid_auto_flow": null,
       "grid_auto_rows": null,
       "grid_column": null,
       "grid_gap": null,
       "grid_row": null,
       "grid_template_areas": null,
       "grid_template_columns": null,
       "grid_template_rows": null,
       "height": null,
       "justify_content": null,
       "justify_items": null,
       "left": null,
       "margin": null,
       "max_height": null,
       "max_width": null,
       "min_height": null,
       "min_width": null,
       "object_fit": null,
       "object_position": null,
       "order": null,
       "overflow": null,
       "overflow_x": null,
       "overflow_y": null,
       "padding": null,
       "right": null,
       "top": null,
       "visibility": null,
       "width": null
      }
     },
     "2e568289f64246daba8a7fcffc9a5fd6": {
      "model_module": "@jupyter-widgets/controls",
      "model_module_version": "1.5.0",
      "model_name": "HTMLModel",
      "state": {
       "_dom_classes": [],
       "_model_module": "@jupyter-widgets/controls",
       "_model_module_version": "1.5.0",
       "_model_name": "HTMLModel",
       "_view_count": null,
       "_view_module": "@jupyter-widgets/controls",
       "_view_module_version": "1.5.0",
       "_view_name": "HTMLView",
       "description": "",
       "description_tooltip": null,
       "layout": "IPY_MODEL_09d7613d8bb9486ca4397d593d6e2f0e",
       "placeholder": "​",
       "style": "IPY_MODEL_980f4381e3714f5a9342a08bcaff4983",
       "value": " 561754112/? [00:06&lt;00:00, 70404375.21it/s]"
      }
     },
     "397ab48c9e4a4eaea6227d177cea9f81": {
      "model_module": "@jupyter-widgets/controls",
      "model_module_version": "1.5.0",
      "model_name": "HTMLModel",
      "state": {
       "_dom_classes": [],
       "_model_module": "@jupyter-widgets/controls",
       "_model_module_version": "1.5.0",
       "_model_name": "HTMLModel",
       "_view_count": null,
       "_view_module": "@jupyter-widgets/controls",
       "_view_module_version": "1.5.0",
       "_view_name": "HTMLView",
       "description": "",
       "description_tooltip": null,
       "layout": "IPY_MODEL_85faf4490e9a4a039fa1012b5d56321f",
       "placeholder": "​",
       "style": "IPY_MODEL_d0baef22e1214afc8b4888e09efbf3ec",
       "value": ""
      }
     },
     "67b5de6bdc0041099729ef5193485a55": {
      "model_module": "@jupyter-widgets/controls",
      "model_module_version": "1.5.0",
      "model_name": "HBoxModel",
      "state": {
       "_dom_classes": [],
       "_model_module": "@jupyter-widgets/controls",
       "_model_module_version": "1.5.0",
       "_model_name": "HBoxModel",
       "_view_count": null,
       "_view_module": "@jupyter-widgets/controls",
       "_view_module_version": "1.5.0",
       "_view_name": "HBoxView",
       "box_style": "",
       "children": [
        "IPY_MODEL_397ab48c9e4a4eaea6227d177cea9f81",
        "IPY_MODEL_b8d71ac70e234d8fb2843a0b705f11cf",
        "IPY_MODEL_2e568289f64246daba8a7fcffc9a5fd6"
       ],
       "layout": "IPY_MODEL_c259820bd35644d79e1faac88ab4009b"
      }
     },
     "85faf4490e9a4a039fa1012b5d56321f": {
      "model_module": "@jupyter-widgets/base",
      "model_module_version": "1.2.0",
      "model_name": "LayoutModel",
      "state": {
       "_model_module": "@jupyter-widgets/base",
       "_model_module_version": "1.2.0",
       "_model_name": "LayoutModel",
       "_view_count": null,
       "_view_module": "@jupyter-widgets/base",
       "_view_module_version": "1.2.0",
       "_view_name": "LayoutView",
       "align_content": null,
       "align_items": null,
       "align_self": null,
       "border": null,
       "bottom": null,
       "display": null,
       "flex": null,
       "flex_flow": null,
       "grid_area": null,
       "grid_auto_columns": null,
       "grid_auto_flow": null,
       "grid_auto_rows": null,
       "grid_column": null,
       "grid_gap": null,
       "grid_row": null,
       "grid_template_areas": null,
       "grid_template_columns": null,
       "grid_template_rows": null,
       "height": null,
       "justify_content": null,
       "justify_items": null,
       "left": null,
       "margin": null,
       "max_height": null,
       "max_width": null,
       "min_height": null,
       "min_width": null,
       "object_fit": null,
       "object_position": null,
       "order": null,
       "overflow": null,
       "overflow_x": null,
       "overflow_y": null,
       "padding": null,
       "right": null,
       "top": null,
       "visibility": null,
       "width": null
      }
     },
     "980f4381e3714f5a9342a08bcaff4983": {
      "model_module": "@jupyter-widgets/controls",
      "model_module_version": "1.5.0",
      "model_name": "DescriptionStyleModel",
      "state": {
       "_model_module": "@jupyter-widgets/controls",
       "_model_module_version": "1.5.0",
       "_model_name": "DescriptionStyleModel",
       "_view_count": null,
       "_view_module": "@jupyter-widgets/base",
       "_view_module_version": "1.2.0",
       "_view_name": "StyleView",
       "description_width": ""
      }
     },
     "b8d71ac70e234d8fb2843a0b705f11cf": {
      "model_module": "@jupyter-widgets/controls",
      "model_module_version": "1.5.0",
      "model_name": "FloatProgressModel",
      "state": {
       "_dom_classes": [],
       "_model_module": "@jupyter-widgets/controls",
       "_model_module_version": "1.5.0",
       "_model_name": "FloatProgressModel",
       "_view_count": null,
       "_view_module": "@jupyter-widgets/controls",
       "_view_module_version": "1.5.0",
       "_view_name": "ProgressView",
       "bar_style": "success",
       "description": "",
       "description_tooltip": null,
       "layout": "IPY_MODEL_27700591208c4eaabbe9dd4ee511ea0a",
       "max": 561753746.0,
       "min": 0.0,
       "orientation": "horizontal",
       "style": "IPY_MODEL_e812915a03f849ccaf1436cd4a3514b3",
       "value": 561753746.0
      }
     },
     "c259820bd35644d79e1faac88ab4009b": {
      "model_module": "@jupyter-widgets/base",
      "model_module_version": "1.2.0",
      "model_name": "LayoutModel",
      "state": {
       "_model_module": "@jupyter-widgets/base",
       "_model_module_version": "1.2.0",
       "_model_name": "LayoutModel",
       "_view_count": null,
       "_view_module": "@jupyter-widgets/base",
       "_view_module_version": "1.2.0",
       "_view_name": "LayoutView",
       "align_content": null,
       "align_items": null,
       "align_self": null,
       "border": null,
       "bottom": null,
       "display": null,
       "flex": null,
       "flex_flow": null,
       "grid_area": null,
       "grid_auto_columns": null,
       "grid_auto_flow": null,
       "grid_auto_rows": null,
       "grid_column": null,
       "grid_gap": null,
       "grid_row": null,
       "grid_template_areas": null,
       "grid_template_columns": null,
       "grid_template_rows": null,
       "height": null,
       "justify_content": null,
       "justify_items": null,
       "left": null,
       "margin": null,
       "max_height": null,
       "max_width": null,
       "min_height": null,
       "min_width": null,
       "object_fit": null,
       "object_position": null,
       "order": null,
       "overflow": null,
       "overflow_x": null,
       "overflow_y": null,
       "padding": null,
       "right": null,
       "top": null,
       "visibility": null,
       "width": null
      }
     },
     "d0baef22e1214afc8b4888e09efbf3ec": {
      "model_module": "@jupyter-widgets/controls",
      "model_module_version": "1.5.0",
      "model_name": "DescriptionStyleModel",
      "state": {
       "_model_module": "@jupyter-widgets/controls",
       "_model_module_version": "1.5.0",
       "_model_name": "DescriptionStyleModel",
       "_view_count": null,
       "_view_module": "@jupyter-widgets/base",
       "_view_module_version": "1.2.0",
       "_view_name": "StyleView",
       "description_width": ""
      }
     },
     "e812915a03f849ccaf1436cd4a3514b3": {
      "model_module": "@jupyter-widgets/controls",
      "model_module_version": "1.5.0",
      "model_name": "ProgressStyleModel",
      "state": {
       "_model_module": "@jupyter-widgets/controls",
       "_model_module_version": "1.5.0",
       "_model_name": "ProgressStyleModel",
       "_view_count": null,
       "_view_module": "@jupyter-widgets/base",
       "_view_module_version": "1.2.0",
       "_view_name": "StyleView",
       "bar_color": null,
       "description_width": ""
      }
     }
    },
    "version_major": 2,
    "version_minor": 0
   }
  }
 },
 "nbformat": 4,
 "nbformat_minor": 5
}
