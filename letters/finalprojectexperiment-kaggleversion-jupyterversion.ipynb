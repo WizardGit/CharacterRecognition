{
 "cells": [
  {
   "cell_type": "code",
   "execution_count": 7,
   "metadata": {
    "execution": {
     "iopub.execute_input": "2022-02-22T02:38:04.585420Z",
     "iopub.status.busy": "2022-02-22T02:38:04.584960Z",
     "iopub.status.idle": "2022-02-22T02:38:12.437036Z",
     "shell.execute_reply": "2022-02-22T02:38:12.436300Z",
     "shell.execute_reply.started": "2022-02-22T02:38:04.585379Z"
    }
   },
   "outputs": [
    {
     "name": "stdout",
     "output_type": "stream",
     "text": [
      "PyTorch Version:  1.10.2\n",
      "Torchvision Version:  0.11.3\n",
      "We will be using the: cpu\n"
     ]
    }
   ],
   "source": [
    "# Here we are importing the necessary libraries\n",
    "from __future__ import print_function\n",
    "from __future__ import division\n",
    "import numpy as np\n",
    "import torch\n",
    "import torch.nn.functional as F\n",
    "import torchvision\n",
    "import matplotlib.pyplot as plt\n",
    "import numpy as np\n",
    "import time\n",
    "import os\n",
    "import copy\n",
    "import torch.optim as optim\n",
    "#This is for Google Collab Notebook - it doesn't have torchplot installed!\n",
    "#!pip install torchplot\n",
    "import torchplot as tplt\n",
    "\n",
    "from torch import nn\n",
    "from torch import optim\n",
    "from torchvision import datasets, models, transforms\n",
    "from torchvision import transforms as T\n",
    "from tqdm import tqdm\n",
    "from torch.utils.data import DataLoader, sampler, random_split\n",
    "\n",
    "print(\"PyTorch Version: \",torch.__version__)\n",
    "print(\"Torchvision Version: \",torchvision.__version__)\n",
    "device = torch.device(\"cuda\" if torch.cuda.is_available() else \"cpu\")\n",
    "print(\"We will be using the:\", device)"
   ]
  },
  {
   "cell_type": "code",
   "execution_count": 8,
   "metadata": {
    "execution": {
     "iopub.execute_input": "2022-02-22T02:38:12.439951Z",
     "iopub.status.busy": "2022-02-22T02:38:12.439690Z",
     "iopub.status.idle": "2022-02-22T02:38:12.589007Z",
     "shell.execute_reply": "2022-02-22T02:38:12.588275Z",
     "shell.execute_reply.started": "2022-02-22T02:38:12.439922Z"
    }
   },
   "outputs": [],
   "source": [
    "transform = transforms.Compose([\n",
    "            transforms.Grayscale(num_output_channels=1),\n",
    "            transforms.Resize(28),\n",
    "            transforms.CenterCrop(28),\n",
    "            transforms.ToTensor(),\n",
    "            #transforms.Normalize((0.485, 0.456, 0.406), (0.229, 0.224, 0.225)),\n",
    "])\n",
    "emnist_dataset = datasets.EMNIST(root='./', split='letters', train=True, download=True, transform=transform,)\n",
    "#all_data = datasets.ImageFolder('../input/handwritten-math-symbols/dataset', transform=transform)\n",
    "all_data = datasets.ImageFolder('./CustomArchive/dataset', transform=transform)\n",
    "\n",
    "image_datasets = torch.utils.data.ConcatDataset([all_data, emnist_dataset])\n",
    "train_data = DataLoader(all_data,batch_size=10,)"
   ]
  },
  {
   "cell_type": "code",
   "execution_count": 9,
   "metadata": {
    "execution": {
     "iopub.execute_input": "2022-02-22T02:38:12.590917Z",
     "iopub.status.busy": "2022-02-22T02:38:12.590366Z",
     "iopub.status.idle": "2022-02-22T02:38:12.856337Z",
     "shell.execute_reply": "2022-02-22T02:38:12.855652Z",
     "shell.execute_reply.started": "2022-02-22T02:38:12.590878Z"
    }
   },
   "outputs": [
    {
     "data": {
      "text/plain": [
       "<matplotlib.image.AxesImage at 0x2030e61bca0>"
      ]
     },
     "execution_count": 9,
     "metadata": {},
     "output_type": "execute_result"
    },
    {
     "data": {
      "image/png": "[encoded data removed]",
      "text/plain": [
       "<Figure size 432x288 with 2 Axes>"
      ]
     },
     "metadata": {
      "needs_background": "light"
     },
     "output_type": "display_data"
    }
   ],
   "source": [
    "import matplotlib.pyplot as plt\n",
    "data = iter(train_data) # Let's iterate on it\n",
    "single_point = next(data)\n",
    "ToPIL = T.ToPILImage() # Converting function\n",
    "img0 = ToPIL(single_point[0][0])\n",
    "img1 = ToPIL(single_point[0][1])\n",
    "# Plotting\n",
    "fig, axs = plt.subplots(1,2)\n",
    "axs[0].imshow(img0)\n",
    "axs[1].imshow(img1)"
   ]
  },
  {
   "cell_type": "code",
   "execution_count": 10,
   "metadata": {
    "execution": {
     "iopub.execute_input": "2022-02-22T02:38:21.915775Z",
     "iopub.status.busy": "2022-02-22T02:38:21.914943Z",
     "iopub.status.idle": "2022-02-22T02:38:21.924680Z",
     "shell.execute_reply": "2022-02-22T02:38:21.923825Z",
     "shell.execute_reply.started": "2022-02-22T02:38:21.915718Z"
    }
   },
   "outputs": [],
   "source": [
    "class LeNet(nn.Module):\n",
    "    def __init__(self):\n",
    "        super().__init__()\n",
    "        self.conv1 = nn.Conv2d(1, 6,5,padding=2)\n",
    "        self.conv2 = nn.Conv2d(6,16,5, padding=0)\n",
    "        self.fc1 = nn.Linear(5*5*16, 120)\n",
    "        self.fc2 = nn.Linear(120, 84)\n",
    "        self.fc3 = nn.Linear(84,62)\n",
    "        \n",
    "    def forward(self, x):\n",
    "        x = torch.sigmoid(self.conv1(x))\n",
    "        x =  nn.MaxPool2d(kernel_size=2, stride=2)(x)\n",
    "        x = torch.sigmoid(self.conv2(x))\n",
    "        x =  nn.MaxPool2d(kernel_size=2, stride=2)(x)\n",
    "        \n",
    "        x = x.view(-1, 5*5*16)\n",
    "        \n",
    "        x = torch.sigmoid(self.fc1(x))\n",
    "        x = torch.sigmoid(self.fc2(x))\n",
    "        x = self.fc3(x)\n",
    "        return x"
   ]
  },
  {
   "cell_type": "code",
   "execution_count": 12,
   "metadata": {
    "execution": {
     "iopub.execute_input": "2022-02-22T03:05:03.705559Z",
     "iopub.status.busy": "2022-02-22T03:05:03.705143Z",
     "iopub.status.idle": "2022-02-22T03:28:23.265603Z",
     "shell.execute_reply": "2022-02-22T03:28:23.264892Z",
     "shell.execute_reply.started": "2022-02-22T03:05:03.705515Z"
    }
   },
   "outputs": [
    {
     "name": "stdout",
     "output_type": "stream",
     "text": [
      "LeNet(\n",
      "  (conv1): Conv2d(1, 6, kernel_size=(5, 5), stride=(1, 1), padding=(2, 2))\n",
      "  (conv2): Conv2d(6, 16, kernel_size=(5, 5), stride=(1, 1))\n",
      "  (fc1): Linear(in_features=400, out_features=120, bias=True)\n",
      "  (fc2): Linear(in_features=120, out_features=84, bias=True)\n",
      "  (fc3): Linear(in_features=84, out_features=62, bias=True)\n",
      ")\n"
     ]
    },
    {
     "name": "stderr",
     "output_type": "stream",
     "text": [
      "Epoch:  10%|███████                                                               | 1/10 [12:23<1:51:35, 743.90s/epoch]"
     ]
    },
    {
     "name": "stdout",
     "output_type": "stream",
     "text": [
      "Epoch: 0 \n",
      " Loss: 0.39201003313064575 \n",
      " Train Accuracy: 74.00% \n",
      " Test Accuracy: 84.81%\n"
     ]
    },
    {
     "name": "stderr",
     "output_type": "stream",
     "text": [
      "Epoch:  20%|██████████████                                                        | 2/10 [24:05<1:37:29, 731.18s/epoch]"
     ]
    },
    {
     "name": "stdout",
     "output_type": "stream",
     "text": [
      "Epoch: 1 \n",
      " Loss: 0.2936874032020569 \n",
      " Train Accuracy: 86.79% \n",
      " Test Accuracy: 87.35%\n"
     ]
    },
    {
     "name": "stderr",
     "output_type": "stream",
     "text": [
      "Epoch:  30%|█████████████████████                                                 | 3/10 [37:08<1:27:06, 746.67s/epoch]"
     ]
    },
    {
     "name": "stdout",
     "output_type": "stream",
     "text": [
      "Epoch: 2 \n",
      " Loss: 0.5168955326080322 \n",
      " Train Accuracy: 87.98% \n",
      " Test Accuracy: 88.18%\n"
     ]
    },
    {
     "name": "stderr",
     "output_type": "stream",
     "text": [
      "Epoch:  40%|████████████████████████████                                          | 4/10 [51:25<1:17:59, 779.90s/epoch]"
     ]
    },
    {
     "name": "stdout",
     "output_type": "stream",
     "text": [
      "Epoch: 3 \n",
      " Loss: 0.4099850356578827 \n",
      " Train Accuracy: 88.55% \n",
      " Test Accuracy: 88.35%\n"
     ]
    },
    {
     "name": "stderr",
     "output_type": "stream",
     "text": [
      "Epoch:  50%|██████████████████████████████████                                  | 5/10 [1:05:56<1:07:16, 807.23s/epoch]"
     ]
    },
    {
     "name": "stdout",
     "output_type": "stream",
     "text": [
      "Epoch: 4 \n",
      " Loss: 0.30793917179107666 \n",
      " Train Accuracy: 88.93% \n",
      " Test Accuracy: 88.70%\n"
     ]
    },
    {
     "name": "stderr",
     "output_type": "stream",
     "text": [
      "Epoch:  60%|██████████████████████████████████████████                            | 6/10 [1:13:12<46:22, 695.68s/epoch]"
     ]
    },
    {
     "name": "stdout",
     "output_type": "stream",
     "text": [
      "Epoch: 5 \n",
      " Loss: 0.20479317009449005 \n",
      " Train Accuracy: 89.18% \n",
      " Test Accuracy: 88.75%\n"
     ]
    },
    {
     "name": "stderr",
     "output_type": "stream",
     "text": [
      "Epoch:  70%|█████████████████████████████████████████████████                     | 7/10 [1:19:06<29:39, 593.31s/epoch]"
     ]
    },
    {
     "name": "stdout",
     "output_type": "stream",
     "text": [
      "Epoch: 6 \n",
      " Loss: 0.2444828897714615 \n",
      " Train Accuracy: 89.41% \n",
      " Test Accuracy: 88.94%\n"
     ]
    },
    {
     "name": "stderr",
     "output_type": "stream",
     "text": [
      "Epoch:  80%|████████████████████████████████████████████████████████              | 8/10 [1:24:17<16:56, 508.49s/epoch]"
     ]
    },
    {
     "name": "stdout",
     "output_type": "stream",
     "text": [
      "Epoch: 7 \n",
      " Loss: 0.18336211144924164 \n",
      " Train Accuracy: 89.56% \n",
      " Test Accuracy: 89.07%\n"
     ]
    },
    {
     "name": "stderr",
     "output_type": "stream",
     "text": [
      "Epoch:  90%|███████████████████████████████████████████████████████████████       | 9/10 [1:30:17<07:44, 464.02s/epoch]"
     ]
    },
    {
     "name": "stdout",
     "output_type": "stream",
     "text": [
      "Epoch: 8 \n",
      " Loss: 0.12969070672988892 \n",
      " Train Accuracy: 89.69% \n",
      " Test Accuracy: 89.05%\n"
     ]
    },
    {
     "name": "stderr",
     "output_type": "stream",
     "text": [
      "Epoch: 100%|█████████████████████████████████████████████████████████████████████| 10/10 [1:35:26<00:00, 572.65s/epoch]"
     ]
    },
    {
     "name": "stdout",
     "output_type": "stream",
     "text": [
      "Epoch: 9 \n",
      " Loss: 0.18048860132694244 \n",
      " Train Accuracy: 89.84% \n",
      " Test Accuracy: 89.25%\n"
     ]
    },
    {
     "name": "stderr",
     "output_type": "stream",
     "text": [
      "\n"
     ]
    }
   ],
   "source": [
    "# Let's set up some parameters\n",
    "learning_rate=0.001\n",
    "nepochs = 8\n",
    "ninputs=1*28*28\n",
    "nout=53\n",
    "\n",
    "#model = AlexNet().to(device)\n",
    "model = LeNet().to(device)\n",
    "\n",
    "print(model)\n",
    "\n",
    "# We need an optimizer that tells us what form of gradient descent to do\n",
    "optimizer = torch.optim.Adam(model.parameters(), learning_rate)\n",
    "\n",
    "# We also need a loss function\n",
    "LossFunction = nn.CrossEntropyLoss()\n",
    "\n",
    "batch_size = 64\n",
    "\n",
    "transform = transforms.Compose([\n",
    "            transforms.Grayscale(num_output_channels=1),\n",
    "            transforms.Resize(28),\n",
    "            transforms.CenterCrop(28),\n",
    "            transforms.ToTensor(),\n",
    "            #transforms.Normalize((0.485, 0.456, 0.406), (0.229, 0.224, 0.225)),\n",
    "        ])\n",
    "\n",
    "\n",
    "emnist_dataset = datasets.EMNIST(root='./', split='bymerge', train=True, download=True, transform=transform,)\n",
    "emnist_test_dataset = datasets.EMNIST(root='./', split='bymerge', train=False, download=False, transform=transform,)\n",
    "#operator_dataset = datasets.ImageFolder('../input/handwritten-math-symbols/dataset', transform=transform)\n",
    "operator_dataset = datasets.ImageFolder('./CustomArchive/dataset', transform=transform)\n",
    "\n",
    "\n",
    "train_operator_data_len = int(len(operator_dataset)*0.70)\n",
    "test_operator_data_len = int(len(operator_dataset) - train_operator_data_len)\n",
    "operator_train_data, operator_test_data = random_split(operator_dataset, [train_operator_data_len, test_operator_data_len])\n",
    "\n",
    "train_image_datasets = torch.utils.data.ConcatDataset([operator_train_data, emnist_dataset])\n",
    "train_data = DataLoader(train_image_datasets,batch_size=batch_size,shuffle=True)\n",
    "\n",
    "test_image_datasets = torch.utils.data.ConcatDataset([operator_test_data, emnist_test_dataset])\n",
    "test_data = DataLoader(test_image_datasets,batch_size=batch_size,shuffle=True)\n",
    "\n",
    "# This is default on but let's just be pedantic\n",
    "model.train()\n",
    "loss_history = []\n",
    "test_accuracy_history = []\n",
    "train_accuracy_history = []\n",
    "loss = torch.Tensor([0])\n",
    "for epoch in tqdm(range(nepochs), desc=f\"Epoch\", unit=\"epoch\", disable=False):\n",
    "    accuracy = 0\n",
    "    for (data, label) in tqdm(train_data, desc=\"iteration\", unit=\"%\", disable=True):\n",
    "        # Here we clear the gradients\n",
    "        optimizer.zero_grad(set_to_none=True)\n",
    "        \n",
    "        # We need to make sure the tensors are on the same device as our model\n",
    "        data = data.to(device)\n",
    "        label = label.to(device)\n",
    "        out = model(data)\n",
    "        \n",
    "        loss = LossFunction(out, label)\n",
    "        \n",
    "        loss.backward() # This function calculates all our gradients\n",
    "        optimizer.step() # This function does our gradient descent with those gradients\n",
    "        loss_history.append(loss.item())\n",
    "        answers = out.max(dim=1)[1]\n",
    "        accuracy += (answers == label).sum()\n",
    "    # Append the training accuracy\n",
    "    accuracy = accuracy / len(train_image_datasets)*100\n",
    "    train_accuracy_history.append(accuracy)\n",
    "    \n",
    "    #let's get the test accuracy to see how well it generalizes\n",
    "    test_accuracy = 0\n",
    "    for (data, label) in test_data:\n",
    "        data = data.to(device)\n",
    "        label = label.to(device)\n",
    "        out = model(data)\n",
    "        answers = out.max(dim=1)[1]\n",
    "        test_accuracy += (answers == label).sum()\n",
    "    # Append the testing accuracy\n",
    "    test_accuracy = test_accuracy / len(test_image_datasets)*100\n",
    "    test_accuracy_history.append(test_accuracy)\n",
    "    #Print the results\n",
    "    print(f\"Epoch: {epoch} \\n Loss: {loss.item()} \\n Train Accuracy: {accuracy:.2f}% \\n Test Accuracy: {test_accuracy:.2f}%\")\n"
   ]
  },
  {
   "cell_type": "code",
   "execution_count": 13,
   "metadata": {
    "execution": {
     "iopub.execute_input": "2022-02-22T03:30:20.298595Z",
     "iopub.status.busy": "2022-02-22T03:30:20.297967Z",
     "iopub.status.idle": "2022-02-22T03:30:20.661800Z",
     "shell.execute_reply": "2022-02-22T03:30:20.661132Z",
     "shell.execute_reply.started": "2022-02-22T03:30:20.298556Z"
    }
   },
   "outputs": [
    {
     "data": {
      "image/png": "[encoded data removed]",
      "text/plain": [
       "<Figure size 432x288 with 1 Axes>"
      ]
     },
     "metadata": {
      "needs_background": "light"
     },
     "output_type": "display_data"
    },
    {
     "data": {
      "image/png": "[encoded data removed]",
      "text/plain": [
       "<Figure size 432x288 with 1 Axes>"
      ]
     },
     "metadata": {
      "needs_background": "light"
     },
     "output_type": "display_data"
    }
   ],
   "source": [
    "# Plot the loss per iteration\n",
    "plt.plot(loss_history)\n",
    "plt.title(\"Neural Network Loss\")\n",
    "plt.xlabel(\"Number of iterations\")\n",
    "plt.ylabel(\"Loss\")\n",
    "plt.show()\n",
    "# Plot the accuracy per epoch\n",
    "tplt.plot(test_accuracy_history, 'r')\n",
    "tplt.plot(train_accuracy_history, 'b')\n",
    "tplt.title(\"Neural Network Accuracy\")\n",
    "tplt.xlabel(\"Epoch Number\")\n",
    "tplt.ylabel(\"Accuracy\")\n",
    "tplt.show()"
   ]
  },
  {
   "cell_type": "code",
   "execution_count": null,
   "metadata": {},
   "outputs": [],
   "source": []
  }
 ],
 "metadata": {
  "kernelspec": {
   "display_name": "Python 3",
   "language": "python",
   "name": "python3"
  }
 },
 "nbformat": 4,
 "nbformat_minor": 4
}
