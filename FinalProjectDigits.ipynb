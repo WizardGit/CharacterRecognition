{
  "nbformat": 4,
  "nbformat_minor": 0,
  "metadata": {
    "colab": {
      "name": "FinalProjectDigits.ipynb",
      "provenance": [],
      "collapsed_sections": [],
      "authorship_tag": "ABX9TyNeoNkBsjR+2OrZFObHWPC9",
      "include_colab_link": true
    },
    "kernelspec": {
      "name": "python3",
      "display_name": "Python 3"
    },
    "language_info": {
      "name": "python"
    }
  },
  "cells": [
    {
      "cell_type": "markdown",
      "metadata": {
        "id": "view-in-github",
        "colab_type": "text"
      },
      "source": [
        "<a href=\"https://colab.research.google.com/github/WizardGit/CharacterRecognition/blob/main/FinalProjectDigits.ipynb\" target=\"_parent\"><img src=\"https://colab.research.google.com/assets/colab-badge.svg\" alt=\"Open In Colab\"/></a>"
      ]
    },
    {
      "cell_type": "code",
      "execution_count": null,
      "metadata": {
        "id": "XA4hjQO8u5yc"
      },
      "outputs": [],
      "source": [
        "import torch\n",
        "from torch import nn\n",
        "from torch import optim\n",
        "from torchvision import datasets, transforms\n",
        "from torch.utils.data import random_split, DataLoader"
      ]
    },
    {
      "cell_type": "code",
      "source": [
        "# let's define a simple model now (creating a linear mapping)\n",
        "model = nn.Sequential(\n",
        "    # 28*28 is the images sizes - let's use 64 hidden layers\n",
        "    nn.Linear(28*28, 64),\n",
        "    nn.ReLU(),\n",
        "    nn.Linear(64, 64),\n",
        "    nn.ReLU(),\n",
        "    nn.Linear(64, 10)\n",
        ")\n",
        "\n",
        "# because we have 10 digits, we have 10 ouput layers in our network\n",
        "print(model)"
      ],
      "metadata": {
        "colab": {
          "base_uri": "https://localhost:8080/"
        },
        "id": "9GopEV1vvknu",
        "outputId": "5ec35be9-2430-4794-a932-d71524c65b75"
      },
      "execution_count": null,
      "outputs": [
        {
          "output_type": "stream",
          "name": "stdout",
          "text": [
            "Sequential(\n",
            "  (0): Linear(in_features=784, out_features=64, bias=True)\n",
            "  (1): ReLU()\n",
            "  (2): Linear(in_features=64, out_features=64, bias=True)\n",
            "  (3): ReLU()\n",
            "  (4): Linear(in_features=64, out_features=10, bias=True)\n",
            ")\n"
          ]
        }
      ]
    },
    {
      "cell_type": "code",
      "source": [
        "# let's get our data before training anything"
      ],
      "metadata": {
        "id": "niKl6AuPzlwH"
      },
      "execution_count": null,
      "outputs": []
    },
    {
      "cell_type": "code",
      "source": [
        "train_data = datasets.MNIST('data', train=True, download=True, transform=transforms.ToTensor())\n",
        "# here we are splitting the data into different sets for training and validation\n",
        "train, val = random_split(train_data, [55000, 5000])\n",
        "# gonna hold everything for training\n",
        "train_loader = DataLoader(train, batch_size=32)\n",
        "# gonna hold everything for validation\n",
        "val_loader = DataLoader(val, batch_size=32)"
      ],
      "metadata": {
        "id": "4NqL9RWIzoWD"
      },
      "execution_count": null,
      "outputs": []
    },
    {
      "cell_type": "code",
      "source": [
        "# let's define our optimizer now (we will be using stochastic gradient descent) and our loss function\n",
        "optimizer = optim.SGD(model.parameters(), lr=0.01)\n",
        "loss_function = nn.CrossEntropyLoss()\n",
        "\n",
        "# now let's get to our training loop\n",
        "nepochs = 8\n",
        "# the full run through the dataset\n",
        "for epoch in range(nepochs):\n",
        "  loss_history = []\n",
        "\n",
        "  for batch in train_loader:\n",
        "    # image and label extracted from batch (x,y)\n",
        "    x, y = batch\n",
        "    b = x.size(0)\n",
        "    x = x.view(b, -1)\n",
        "\n",
        "    # step 1: our forward function\n",
        "    # l is logit\n",
        "    logit = model(x) \n",
        "\n",
        "    # step 2: compute the objective function\n",
        "    # the loss is the distance between the networking performance and the final task\n",
        "    J = loss_function(logit,y)\n",
        "\n",
        "    # step 3: clean the gradients\n",
        "    model.zero_grad()\n",
        "      # model.zero_grad() can work as well\n",
        "\n",
        "    # step 4: accumulate the partial derivatives of J with respect to the given parameters (basically summing them)\n",
        "    J.backward()\n",
        "\n",
        "    # step 5: step in the opposite direction of the gradient\n",
        "    optimizer.step()\n",
        "    \n",
        "    loss_history.append(J.item())\n",
        "    \n",
        "    # scalar tensor\n",
        "  print(f'Epoch {epoch + 1}, train loss: {torch.tensor(loss_history).mean():.2f}')\n",
        "\n",
        "  loss_history = []\n",
        "\n",
        "  for batch in val_loader:\n",
        "    # image and label extracted from batch (x,y)\n",
        "    x, y = batch\n",
        "    b = x.size(0)\n",
        "    x = x.view(b, -1)\n",
        "\n",
        "    # step 1: our forward function\n",
        "    # l is logit\n",
        "    with torch.no_grad():\n",
        "      logit = model(x) \n",
        "\n",
        "    # step 2: compute the objective function\n",
        "    # the loss is the distance between the networking performance and the final task\n",
        "    J = loss_function(logit,y)\n",
        "\n",
        "    loss_history.append(J.item())\n",
        "\n",
        "  print(f'Epoch {epoch + 1}, validation loss: {torch.tensor(loss_history).mean():.2f}')"
      ],
      "metadata": {
        "colab": {
          "base_uri": "https://localhost:8080/"
        },
        "id": "v9tXlOuCwYMt",
        "outputId": "900ced0d-d1d2-4057-a7f4-b89b6a07e555"
      },
      "execution_count": null,
      "outputs": [
        {
          "output_type": "stream",
          "name": "stdout",
          "text": [
            "Epoch 1, train loss: 1.19\n",
            "Epoch 1, validation loss: 0.46\n",
            "Epoch 2, train loss: 0.39\n",
            "Epoch 2, validation loss: 0.35\n",
            "Epoch 3, train loss: 0.32\n",
            "Epoch 3, validation loss: 0.31\n",
            "Epoch 4, train loss: 0.29\n",
            "Epoch 4, validation loss: 0.28\n",
            "Epoch 5, train loss: 0.26\n",
            "Epoch 5, validation loss: 0.25\n",
            "Epoch 6, train loss: 0.23\n",
            "Epoch 6, validation loss: 0.23\n",
            "Epoch 7, train loss: 0.21\n",
            "Epoch 7, validation loss: 0.21\n",
            "Epoch 8, train loss: 0.20\n",
            "Epoch 8, validation loss: 0.20\n"
          ]
        }
      ]
    }
  ]
}