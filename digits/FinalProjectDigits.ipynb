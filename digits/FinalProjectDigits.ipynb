{
  "nbformat": 4,
  "nbformat_minor": 0,
  "metadata": {
    "colab": {
      "name": "FinalProjectDigits.ipynb",
      "provenance": [],
      "collapsed_sections": []
    },
    "kernelspec": {
      "name": "python3",
      "display_name": "Python 3"
    },
    "language_info": {
      "name": "python"
    }
  },
  "cells": [
    {
      "cell_type": "code",
      "execution_count": 1,
      "metadata": {
        "id": "XA4hjQO8u5yc"
      },
      "outputs": [],
      "source": [
        "import torch\n",
        "from torch import nn\n",
        "from torch import optim\n",
        "from torchvision import datasets, transforms"
      ]
    },
    {
      "cell_type": "code",
      "source": [
        "# let's define our model now (creating a linear mapping)\n",
        "model = nn.Sequential(\n",
        "    # 28*28 is the images sizes - let's use 64 hidden layers\n",
        "    nn.Linear(28*28, 64),\n",
        "    nn.ReLU(),\n",
        "    nn.Linear(64, 64),\n",
        "    nn.ReLU(),\n",
        "    nn.Linear(64, 10)\n",
        ")\n",
        "\n",
        "# because we have 10 digits, we have 10 ouput layers in our network\n",
        "print(model)"
      ],
      "metadata": {
        "colab": {
          "base_uri": "https://localhost:8080/"
        },
        "id": "9GopEV1vvknu",
        "outputId": "a5f11f26-7a7b-47b8-d7af-4814f803bb20"
      },
      "execution_count": 2,
      "outputs": [
        {
          "output_type": "stream",
          "name": "stdout",
          "text": [
            "Sequential(\n",
            "  (0): Linear(in_features=784, out_features=64, bias=True)\n",
            "  (1): ReLU()\n",
            "  (2): Linear(in_features=64, out_features=64, bias=True)\n",
            "  (3): ReLU()\n",
            "  (4): Linear(in_features=64, out_features=10, bias=True)\n",
            ")\n"
          ]
        }
      ]
    },
    {
      "cell_type": "code",
      "source": [
        "# let's get our data before training anything"
      ],
      "metadata": {
        "id": "niKl6AuPzlwH"
      },
      "execution_count": null,
      "outputs": []
    },
    {
      "cell_type": "code",
      "source": [
        ""
      ],
      "metadata": {
        "id": "4NqL9RWIzoWD"
      },
      "execution_count": null,
      "outputs": []
    },
    {
      "cell_type": "code",
      "source": [
        "# let's define our optimizer now (we will be using stochastic gradient descent) and our loss function"
      ],
      "metadata": {
        "id": "-p5a4tvzwVXe"
      },
      "execution_count": null,
      "outputs": []
    },
    {
      "cell_type": "code",
      "source": [
        "optimizer = optim.SGD(model.parameters(), lr=0.01)\n",
        "loss_function = nn.CrossEntropyLoss()\n",
        "\n",
        "# now let's get to our training loop\n",
        "nepochs = 8\n",
        "for epoch in range(nepochs):\n",
        "  for batch in train_loader:\n",
        "    # image and label extracted from batch (x,y)\n",
        "    x, y = batch\n",
        "    b = x.size(0)\n",
        "    x = x.view(b, -1)\n",
        "\n",
        "    # step 1: our forward function\n",
        "    # l is logit\n",
        "    l = model(x) \n",
        "\n",
        "    # step 2: compute the objective function\n",
        "    J = loss_function(1,y)\n",
        "\n",
        "    # step 3: clean the gradients\n",
        "    model.zero_grad()\n",
        "\n",
        "    # step 4: accumulate the partial derivatives of J with respect to the given parameters (basically summing them)\n",
        "    J.backward()\n",
        "\n",
        "    # step 5: step in the opposite direction of the gradient\n",
        "    optimizer.step()\n",
        "    "
      ],
      "metadata": {
        "id": "v9tXlOuCwYMt"
      },
      "execution_count": null,
      "outputs": []
    }
  ]
}