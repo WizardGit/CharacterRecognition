{
  "nbformat": 4,
  "nbformat_minor": 0,
  "metadata": {
    "colab": {
      "name": "FinalProjectDigits.ipynb",
      "provenance": [],
      "collapsed_sections": [],
      "authorship_tag": "ABX9TyNuSqLONL2qW8zd0ykMBT9W",
      "include_colab_link": true
    },
    "kernelspec": {
      "name": "python3",
      "display_name": "Python 3"
    },
    "language_info": {
      "name": "python"
    }
  },
  "cells": [
    {
      "cell_type": "markdown",
      "metadata": {
        "id": "view-in-github",
        "colab_type": "text"
      },
      "source": [
        "<a href=\"https://colab.research.google.com/github/WizardGit/CharacterRecognition/blob/main/digits/FinalProjectDigits.ipynb\" target=\"_parent\"><img src=\"https://colab.research.google.com/assets/colab-badge.svg\" alt=\"Open In Colab\"/></a>"
      ]
    },
    {
      "cell_type": "code",
      "execution_count": 113,
      "metadata": {
        "id": "XA4hjQO8u5yc"
      },
      "outputs": [],
      "source": [
        "import torch\n",
        "import torchvision\n",
        "import matplotlib.pyplot as plt\n",
        "import torch.nn as nn\n",
        "import torch.nn.functional as F\n",
        "import torch.optim as optim"
      ]
    },
    {
      "cell_type": "code",
      "source": [
        "from google.colab import drive\n",
        "drive.mount('/content/MyDrive')"
      ],
      "metadata": {
        "colab": {
          "base_uri": "https://localhost:8080/"
        },
        "id": "ExlhasgFVDx5",
        "outputId": "63e75a64-795a-4928-f08c-e539c9873959"
      },
      "execution_count": 114,
      "outputs": [
        {
          "output_type": "stream",
          "name": "stdout",
          "text": [
            "Drive already mounted at /content/MyDrive; to attempt to forcibly remount, call drive.mount(\"/content/MyDrive\", force_remount=True).\n"
          ]
        }
      ]
    },
    {
      "cell_type": "code",
      "source": [
        "# General parameters"
      ],
      "metadata": {
        "id": "RBRMpDdtSJhF"
      },
      "execution_count": 115,
      "outputs": []
    },
    {
      "cell_type": "code",
      "source": [
        "num_epochs = 3\n",
        "num_classes = 10\n",
        "training_batch_size = 64\n",
        "testing_batch_size = 1000\n",
        "learning_rate = 0.01\n",
        "momentum = 0.5\n",
        "log_interval = 10\n",
        "input_size = 784 # initializing for our logistic regression model\n",
        "\n",
        "random_seed = 1\n",
        "torch.backends.cudnn.enabled = False\n",
        "torch.manual_seed(random_seed)"
      ],
      "metadata": {
        "colab": {
          "base_uri": "https://localhost:8080/"
        },
        "id": "HYqbrrsIO0P0",
        "outputId": "1e19032d-bcb0-4d4a-c26a-f9869f313f5a"
      },
      "execution_count": 116,
      "outputs": [
        {
          "output_type": "execute_result",
          "data": {
            "text/plain": [
              "<torch._C.Generator at 0x7f8a2e548d90>"
            ]
          },
          "metadata": {},
          "execution_count": 116
        }
      ]
    },
    {
      "cell_type": "code",
      "source": [
        "# Let's load the data"
      ],
      "metadata": {
        "id": "1122e82xSOuu"
      },
      "execution_count": 117,
      "outputs": []
    },
    {
      "cell_type": "code",
      "source": [
        "train_loader = torch.utils.data.DataLoader(\n",
        "  torchvision.datasets.MNIST('/files/', train=True, download=True,\n",
        "                             transform=torchvision.transforms.Compose([\n",
        "                               torchvision.transforms.ToTensor(),\n",
        "                               torchvision.transforms.Normalize(\n",
        "                                 (0.1307,), (0.3081,))\n",
        "                             ])),\n",
        "  batch_size=training_batch_size, shuffle=True)\n",
        "\n",
        "test_loader = torch.utils.data.DataLoader(\n",
        "    torchvision.datasets.MNIST('/files/', train=False, download=True,\n",
        "                             transform=torchvision.transforms.Compose([\n",
        "                               torchvision.transforms.ToTensor(),\n",
        "                               torchvision.transforms.Normalize(\n",
        "                                 (0.1307,), (0.3081,))\n",
        "                             ])),\n",
        "  batch_size=testing_batch_size, shuffle=True)"
      ],
      "metadata": {
        "id": "78ez2Qs_SSAX"
      },
      "execution_count": 118,
      "outputs": []
    },
    {
      "cell_type": "code",
      "source": [
        "image_examples = enumerate(test_loader)\n",
        "batch_idx, (example_data, example_targets) = next(image_examples)"
      ],
      "metadata": {
        "id": "8M1rNFRESSFw"
      },
      "execution_count": 119,
      "outputs": []
    },
    {
      "cell_type": "code",
      "source": [
        "# Let's look at how our test batch is structured\n",
        "example_data.shape"
      ],
      "metadata": {
        "colab": {
          "base_uri": "https://localhost:8080/"
        },
        "id": "dY4GeA20SdU1",
        "outputId": "a44b452c-df43-4cf4-cafe-c100f84ed9c1"
      },
      "execution_count": 120,
      "outputs": [
        {
          "output_type": "execute_result",
          "data": {
            "text/plain": [
              "torch.Size([1000, 1, 28, 28])"
            ]
          },
          "metadata": {},
          "execution_count": 120
        }
      ]
    },
    {
      "cell_type": "code",
      "source": [
        "# This means we have 1000 examples of 28x28 pixels in grayscale\n",
        "# We can use matplotlib to visualize some of the data\n",
        "\n",
        "figure = plt.figure()\n",
        "for i in range(6):\n",
        "  plt.subplot(2,3,i+1)\n",
        "  plt.tight_layout()\n",
        "  plt.imshow(example_data[i][0], cmap='gray', interpolation='none')\n",
        "  plt.title(\"Ground Truth: {}\".format(example_targets[i]))\n",
        "  plt.xticks([])\n",
        "  plt.yticks([])\n",
        "figure\n",
        "\n",
        "print(\"Images paired with their true classification\")"
      ],
      "metadata": {
        "colab": {
          "base_uri": "https://localhost:8080/",
          "height": 301
        },
        "id": "9b25BAHbSpeD",
        "outputId": "74591c04-cb3e-4e5c-be2d-1061079bfa46"
      },
      "execution_count": 121,
      "outputs": [
        {
          "output_type": "stream",
          "name": "stdout",
          "text": [
            "Images paired with their true classification\n"
          ]
        },
        {
          "output_type": "display_data",
          "data": {
            "image/png": "[encoded data removed]",
            "text/plain": [
              "<Figure size 432x288 with 6 Axes>"
            ]
          },
          "metadata": {}
        }
      ]
    },
    {
      "cell_type": "code",
      "source": [
        "# Let's make a simple logistic regression model\n",
        "class LogisticRegression(nn.Module): \n",
        "    def __init__(self, input_size, num_classes): \n",
        "        super(LogisticRegression, self).__init__() \n",
        "        self.linear = nn.Linear(input_size, num_classes) \n",
        "    \n",
        "    def forward(self, x): \n",
        "        out = self.linear(x) \n",
        "        return out \n",
        "\n",
        "model2 = LogisticRegression(input_size, num_classes) \n",
        "print(model2)"
      ],
      "metadata": {
        "colab": {
          "base_uri": "https://localhost:8080/"
        },
        "id": "4cpASHZhedo5",
        "outputId": "071db8c8-2880-4f67-e5e6-a3319ce4d8e4"
      },
      "execution_count": 122,
      "outputs": [
        {
          "output_type": "stream",
          "name": "stdout",
          "text": [
            "LogisticRegression(\n",
            "  (linear): Linear(in_features=784, out_features=10, bias=True)\n",
            ")\n"
          ]
        }
      ]
    },
    {
      "cell_type": "code",
      "source": [
        ""
      ],
      "metadata": {
        "id": "gu74EJUBh5Dc"
      },
      "execution_count": 122,
      "outputs": []
    },
    {
      "cell_type": "code",
      "source": [
        "# Let's build our bulkier network  \n",
        "# I'm going to use two 2d convolutional layers with two fully-connected linear layers\n",
        "# I'm also going to use two dropout layers for regularization"
      ],
      "metadata": {
        "id": "yInAHmnCS8JW"
      },
      "execution_count": 123,
      "outputs": []
    },
    {
      "cell_type": "code",
      "source": [
        "class ResNet(nn.Module):\n",
        "    def __init__(self):\n",
        "        super(ResNet, self).__init__()\n",
        "        self.conv1 = nn.Conv2d(1, 10, kernel_size=5)\n",
        "        self.conv2 = nn.Conv2d(10, 20, kernel_size=5)\n",
        "        self.conv2_drop = nn.Dropout2d()\n",
        "        self.fc1 = nn.Linear(320, 50)\n",
        "        self.fc2 = nn.Linear(50, 10)\n",
        "        # making sure our output is 10- matching the number of classes in the dataset\n",
        "\n",
        "    def forward(self, x):\n",
        "        x = F.relu(F.max_pool2d(self.conv1(x), 2))\n",
        "        x = F.relu(F.max_pool2d(self.conv2_drop(self.conv2(x)), 2))\n",
        "        x = x.view(-1, 320)\n",
        "        x = F.relu(self.fc1(x))\n",
        "        x = F.dropout(x, training=self.training)\n",
        "        x = self.fc2(x)\n",
        "        return F.log_softmax(x)\n"
      ],
      "metadata": {
        "id": "7anUTIC0TDRF"
      },
      "execution_count": 124,
      "outputs": []
    },
    {
      "cell_type": "code",
      "source": [
        "model = ResNet()\n",
        "# I'll be using stochastic gradient descent as the optimizer\n",
        "# And our learning rate remains as 0.01\n",
        "optimizer = optim.SGD(model.parameters(), lr=learning_rate,\n",
        "                      momentum=momentum)\n",
        "\n",
        "# let's look at what the structure of our model is composed of\n",
        "print(model)"
      ],
      "metadata": {
        "colab": {
          "base_uri": "https://localhost:8080/"
        },
        "id": "5CQBG_4gTlFX",
        "outputId": "b107d209-1881-4848-fd1e-7eb9bd2b1058"
      },
      "execution_count": 125,
      "outputs": [
        {
          "output_type": "stream",
          "name": "stdout",
          "text": [
            "ResNet(\n",
            "  (conv1): Conv2d(1, 10, kernel_size=(5, 5), stride=(1, 1))\n",
            "  (conv2): Conv2d(10, 20, kernel_size=(5, 5), stride=(1, 1))\n",
            "  (conv2_drop): Dropout2d(p=0.5, inplace=False)\n",
            "  (fc1): Linear(in_features=320, out_features=50, bias=True)\n",
            "  (fc2): Linear(in_features=50, out_features=10, bias=True)\n",
            ")\n"
          ]
        }
      ]
    },
    {
      "cell_type": "code",
      "source": [
        "# Let's train with our model\n",
        "# Loading the individual batches is handled by the DataLoader we imported\n",
        "\n",
        "# setting up some data structures to hold some import performance results\n",
        "train_losses = []\n",
        "test_losses = []\n",
        "train_counter = []\n",
        "test_counter = [i*len(train_loader.dataset) for i in range(num_epochs + 1)]\n",
        "\n",
        "\n",
        "# Running the test loop once before starting the training to see what accuracy/loss is achieved just with randomly initialized network parameters\n",
        "\n",
        "def train(epoch):\n",
        "  model.train()\n",
        "  for batch_idx, (data, target) in enumerate(train_loader):\n",
        "    optimizer.zero_grad()\n",
        "    output = model(data)\n",
        "    loss = F.nll_loss(output, target)\n",
        "    loss.backward()\n",
        "    optimizer.step()\n",
        "    if (batch_idx % log_interval == 0):\n",
        "      print('Training Epoch: {} [{}/{} ({:.0f}%)]\\tLoss: {:.6f}'.format(\n",
        "        epoch, batch_idx * len(data), len(train_loader.dataset),\n",
        "        100. * batch_idx / len(train_loader), loss.item()))\n",
        "      \n",
        "      train_losses.append(loss.item())\n",
        "      train_counter.append(\n",
        "        (batch_idx*64) + ((epoch-1)*len(train_loader.dataset)))\n",
        "      \n",
        "      # storing our results in .pth files in our results folder\n",
        "      # torch.save(model.state_dict(), '/results/model.pth')\n",
        "      # torch.save(optimizer.state_dict(), '/results/optimizer.pth')"
      ],
      "metadata": {
        "id": "Thgv1s0FT7lB"
      },
      "execution_count": 126,
      "outputs": []
    },
    {
      "cell_type": "code",
      "source": [
        "# setting up our test function\n",
        "\n",
        "def test():\n",
        "  model.eval()\n",
        "  correct = 0\n",
        "  test_loss = 0\n",
        "  with torch.no_grad():\n",
        "    for data, target in test_loader:\n",
        "      output = model(data)\n",
        "      test_loss += F.nll_loss(output, target, size_average=False).item()\n",
        "      pred = output.data.max(1, keepdim=True)[1]\n",
        "      correct += pred.eq(target.data.view_as(pred)).sum()\n",
        "  \n",
        "  test_loss /= len(test_loader.dataset)\n",
        "  test_losses.append(test_loss)\n",
        "  print('\\nTest set: Average loss: {:.4f}, Accuracy: {}/{} ({:.0f}%)\\n'.format(\n",
        "    test_loss, correct, len(test_loader.dataset),\n",
        "    100. * correct / len(test_loader.dataset)))"
      ],
      "metadata": {
        "id": "dA_Dl3OIUm48"
      },
      "execution_count": 127,
      "outputs": []
    },
    {
      "cell_type": "code",
      "source": [
        "# entering training loop now (with randomly initialized network parameters)\n",
        "\n",
        "test()\n",
        "for epoch in range(1, num_epochs + 1):\n",
        "  train(epoch)\n",
        "  test()"
      ],
      "metadata": {
        "colab": {
          "base_uri": "https://localhost:8080/"
        },
        "id": "PdqynfWQUs_Q",
        "outputId": "e8102a0a-a44b-40ab-ecbf-2a78b36b8142"
      },
      "execution_count": 128,
      "outputs": [
        {
          "output_type": "stream",
          "name": "stderr",
          "text": [
            "/usr/local/lib/python3.7/dist-packages/ipykernel_launcher.py:18: UserWarning: Implicit dimension choice for log_softmax has been deprecated. Change the call to include dim=X as an argument.\n",
            "/usr/local/lib/python3.7/dist-packages/torch/nn/_reduction.py:42: UserWarning: size_average and reduce args will be deprecated, please use reduction='sum' instead.\n",
            "  warnings.warn(warning.format(ret))\n"
          ]
        },
        {
          "output_type": "stream",
          "name": "stdout",
          "text": [
            "\n",
            "Test set: Average loss: 2.3105, Accuracy: 973/10000 (10%)\n",
            "\n",
            "Training Epoch: 1 [0/60000 (0%)]\tLoss: 2.276316\n",
            "Training Epoch: 1 [640/60000 (1%)]\tLoss: 2.327984\n",
            "Training Epoch: 1 [1280/60000 (2%)]\tLoss: 2.305577\n",
            "Training Epoch: 1 [1920/60000 (3%)]\tLoss: 2.298224\n",
            "Training Epoch: 1 [2560/60000 (4%)]\tLoss: 2.290064\n",
            "Training Epoch: 1 [3200/60000 (5%)]\tLoss: 2.273685\n",
            "Training Epoch: 1 [3840/60000 (6%)]\tLoss: 2.237526\n",
            "Training Epoch: 1 [4480/60000 (7%)]\tLoss: 2.281497\n",
            "Training Epoch: 1 [5120/60000 (9%)]\tLoss: 2.222177\n",
            "Training Epoch: 1 [5760/60000 (10%)]\tLoss: 2.208029\n",
            "Training Epoch: 1 [6400/60000 (11%)]\tLoss: 2.242641\n",
            "Training Epoch: 1 [7040/60000 (12%)]\tLoss: 2.164133\n",
            "Training Epoch: 1 [7680/60000 (13%)]\tLoss: 2.066610\n",
            "Training Epoch: 1 [8320/60000 (14%)]\tLoss: 2.169061\n",
            "Training Epoch: 1 [8960/60000 (15%)]\tLoss: 1.877153\n",
            "Training Epoch: 1 [9600/60000 (16%)]\tLoss: 1.879281\n",
            "Training Epoch: 1 [10240/60000 (17%)]\tLoss: 1.587763\n",
            "Training Epoch: 1 [10880/60000 (18%)]\tLoss: 1.712035\n",
            "Training Epoch: 1 [11520/60000 (19%)]\tLoss: 1.472505\n",
            "Training Epoch: 1 [12160/60000 (20%)]\tLoss: 1.419178\n",
            "Training Epoch: 1 [12800/60000 (21%)]\tLoss: 1.424804\n",
            "Training Epoch: 1 [13440/60000 (22%)]\tLoss: 1.087957\n",
            "Training Epoch: 1 [14080/60000 (23%)]\tLoss: 1.235059\n",
            "Training Epoch: 1 [14720/60000 (25%)]\tLoss: 0.913544\n",
            "Training Epoch: 1 [15360/60000 (26%)]\tLoss: 1.209990\n",
            "Training Epoch: 1 [16000/60000 (27%)]\tLoss: 0.891814\n",
            "Training Epoch: 1 [16640/60000 (28%)]\tLoss: 0.790774\n",
            "Training Epoch: 1 [17280/60000 (29%)]\tLoss: 1.097589\n",
            "Training Epoch: 1 [17920/60000 (30%)]\tLoss: 0.996760\n",
            "Training Epoch: 1 [18560/60000 (31%)]\tLoss: 0.952649\n",
            "Training Epoch: 1 [19200/60000 (32%)]\tLoss: 0.764642\n",
            "Training Epoch: 1 [19840/60000 (33%)]\tLoss: 0.821396\n",
            "Training Epoch: 1 [20480/60000 (34%)]\tLoss: 0.949330\n",
            "Training Epoch: 1 [21120/60000 (35%)]\tLoss: 0.822495\n",
            "Training Epoch: 1 [21760/60000 (36%)]\tLoss: 0.941551\n",
            "Training Epoch: 1 [22400/60000 (37%)]\tLoss: 0.509555\n",
            "Training Epoch: 1 [23040/60000 (38%)]\tLoss: 0.686732\n",
            "Training Epoch: 1 [23680/60000 (39%)]\tLoss: 0.716784\n",
            "Training Epoch: 1 [24320/60000 (41%)]\tLoss: 0.827493\n",
            "Training Epoch: 1 [24960/60000 (42%)]\tLoss: 0.651406\n",
            "Training Epoch: 1 [25600/60000 (43%)]\tLoss: 0.746079\n",
            "Training Epoch: 1 [26240/60000 (44%)]\tLoss: 0.549875\n",
            "Training Epoch: 1 [26880/60000 (45%)]\tLoss: 0.547477\n",
            "Training Epoch: 1 [27520/60000 (46%)]\tLoss: 0.905600\n",
            "Training Epoch: 1 [28160/60000 (47%)]\tLoss: 0.528370\n",
            "Training Epoch: 1 [28800/60000 (48%)]\tLoss: 0.848409\n",
            "Training Epoch: 1 [29440/60000 (49%)]\tLoss: 0.818065\n",
            "Training Epoch: 1 [30080/60000 (50%)]\tLoss: 0.608728\n",
            "Training Epoch: 1 [30720/60000 (51%)]\tLoss: 0.565392\n",
            "Training Epoch: 1 [31360/60000 (52%)]\tLoss: 0.693750\n",
            "Training Epoch: 1 [32000/60000 (53%)]\tLoss: 0.411705\n",
            "Training Epoch: 1 [32640/60000 (54%)]\tLoss: 0.508133\n",
            "Training Epoch: 1 [33280/60000 (55%)]\tLoss: 0.441705\n",
            "Training Epoch: 1 [33920/60000 (57%)]\tLoss: 0.416321\n",
            "Training Epoch: 1 [34560/60000 (58%)]\tLoss: 0.424601\n",
            "Training Epoch: 1 [35200/60000 (59%)]\tLoss: 0.543967\n",
            "Training Epoch: 1 [35840/60000 (60%)]\tLoss: 0.539264\n",
            "Training Epoch: 1 [36480/60000 (61%)]\tLoss: 0.400767\n",
            "Training Epoch: 1 [37120/60000 (62%)]\tLoss: 0.652034\n",
            "Training Epoch: 1 [37760/60000 (63%)]\tLoss: 0.430710\n",
            "Training Epoch: 1 [38400/60000 (64%)]\tLoss: 0.600357\n",
            "Training Epoch: 1 [39040/60000 (65%)]\tLoss: 0.589048\n",
            "Training Epoch: 1 [39680/60000 (66%)]\tLoss: 0.345050\n",
            "Training Epoch: 1 [40320/60000 (67%)]\tLoss: 0.635863\n",
            "Training Epoch: 1 [40960/60000 (68%)]\tLoss: 0.587716\n",
            "Training Epoch: 1 [41600/60000 (69%)]\tLoss: 0.492801\n",
            "Training Epoch: 1 [42240/60000 (70%)]\tLoss: 0.415492\n",
            "Training Epoch: 1 [42880/60000 (71%)]\tLoss: 0.583339\n",
            "Training Epoch: 1 [43520/60000 (72%)]\tLoss: 0.582555\n",
            "Training Epoch: 1 [44160/60000 (74%)]\tLoss: 0.624461\n",
            "Training Epoch: 1 [44800/60000 (75%)]\tLoss: 0.564297\n",
            "Training Epoch: 1 [45440/60000 (76%)]\tLoss: 0.407861\n",
            "Training Epoch: 1 [46080/60000 (77%)]\tLoss: 0.482704\n",
            "Training Epoch: 1 [46720/60000 (78%)]\tLoss: 0.458715\n",
            "Training Epoch: 1 [47360/60000 (79%)]\tLoss: 0.393516\n",
            "Training Epoch: 1 [48000/60000 (80%)]\tLoss: 0.595213\n",
            "Training Epoch: 1 [48640/60000 (81%)]\tLoss: 0.525172\n",
            "Training Epoch: 1 [49280/60000 (82%)]\tLoss: 0.377840\n",
            "Training Epoch: 1 [49920/60000 (83%)]\tLoss: 0.397944\n",
            "Training Epoch: 1 [50560/60000 (84%)]\tLoss: 0.611226\n",
            "Training Epoch: 1 [51200/60000 (85%)]\tLoss: 0.457766\n",
            "Training Epoch: 1 [51840/60000 (86%)]\tLoss: 0.631829\n",
            "Training Epoch: 1 [52480/60000 (87%)]\tLoss: 0.591686\n",
            "Training Epoch: 1 [53120/60000 (88%)]\tLoss: 0.644656\n",
            "Training Epoch: 1 [53760/60000 (90%)]\tLoss: 0.227392\n",
            "Training Epoch: 1 [54400/60000 (91%)]\tLoss: 0.373719\n",
            "Training Epoch: 1 [55040/60000 (92%)]\tLoss: 0.465065\n",
            "Training Epoch: 1 [55680/60000 (93%)]\tLoss: 0.204024\n",
            "Training Epoch: 1 [56320/60000 (94%)]\tLoss: 0.326242\n",
            "Training Epoch: 1 [56960/60000 (95%)]\tLoss: 0.537522\n",
            "Training Epoch: 1 [57600/60000 (96%)]\tLoss: 0.532397\n",
            "Training Epoch: 1 [58240/60000 (97%)]\tLoss: 0.316833\n",
            "Training Epoch: 1 [58880/60000 (98%)]\tLoss: 0.370391\n",
            "Training Epoch: 1 [59520/60000 (99%)]\tLoss: 0.418014\n",
            "\n",
            "Test set: Average loss: 0.1636, Accuracy: 9527/10000 (95%)\n",
            "\n",
            "Training Epoch: 2 [0/60000 (0%)]\tLoss: 0.218288\n",
            "Training Epoch: 2 [640/60000 (1%)]\tLoss: 0.276485\n",
            "Training Epoch: 2 [1280/60000 (2%)]\tLoss: 0.381060\n",
            "Training Epoch: 2 [1920/60000 (3%)]\tLoss: 0.483561\n",
            "Training Epoch: 2 [2560/60000 (4%)]\tLoss: 0.568754\n",
            "Training Epoch: 2 [3200/60000 (5%)]\tLoss: 0.317753\n",
            "Training Epoch: 2 [3840/60000 (6%)]\tLoss: 0.426143\n",
            "Training Epoch: 2 [4480/60000 (7%)]\tLoss: 0.534458\n",
            "Training Epoch: 2 [5120/60000 (9%)]\tLoss: 0.437628\n",
            "Training Epoch: 2 [5760/60000 (10%)]\tLoss: 0.332542\n",
            "Training Epoch: 2 [6400/60000 (11%)]\tLoss: 0.450062\n",
            "Training Epoch: 2 [7040/60000 (12%)]\tLoss: 0.417265\n",
            "Training Epoch: 2 [7680/60000 (13%)]\tLoss: 0.354612\n",
            "Training Epoch: 2 [8320/60000 (14%)]\tLoss: 0.307964\n",
            "Training Epoch: 2 [8960/60000 (15%)]\tLoss: 0.468155\n",
            "Training Epoch: 2 [9600/60000 (16%)]\tLoss: 0.417040\n",
            "Training Epoch: 2 [10240/60000 (17%)]\tLoss: 0.320264\n",
            "Training Epoch: 2 [10880/60000 (18%)]\tLoss: 0.721255\n",
            "Training Epoch: 2 [11520/60000 (19%)]\tLoss: 0.368640\n",
            "Training Epoch: 2 [12160/60000 (20%)]\tLoss: 0.283716\n",
            "Training Epoch: 2 [12800/60000 (21%)]\tLoss: 0.258399\n",
            "Training Epoch: 2 [13440/60000 (22%)]\tLoss: 0.346130\n",
            "Training Epoch: 2 [14080/60000 (23%)]\tLoss: 0.316173\n",
            "Training Epoch: 2 [14720/60000 (25%)]\tLoss: 0.576481\n",
            "Training Epoch: 2 [15360/60000 (26%)]\tLoss: 0.331753\n",
            "Training Epoch: 2 [16000/60000 (27%)]\tLoss: 0.463919\n",
            "Training Epoch: 2 [16640/60000 (28%)]\tLoss: 0.285461\n",
            "Training Epoch: 2 [17280/60000 (29%)]\tLoss: 0.440086\n",
            "Training Epoch: 2 [17920/60000 (30%)]\tLoss: 0.448196\n",
            "Training Epoch: 2 [18560/60000 (31%)]\tLoss: 0.399347\n",
            "Training Epoch: 2 [19200/60000 (32%)]\tLoss: 0.233831\n",
            "Training Epoch: 2 [19840/60000 (33%)]\tLoss: 0.523678\n",
            "Training Epoch: 2 [20480/60000 (34%)]\tLoss: 0.347767\n",
            "Training Epoch: 2 [21120/60000 (35%)]\tLoss: 0.340824\n",
            "Training Epoch: 2 [21760/60000 (36%)]\tLoss: 0.336525\n",
            "Training Epoch: 2 [22400/60000 (37%)]\tLoss: 0.329104\n",
            "Training Epoch: 2 [23040/60000 (38%)]\tLoss: 0.299003\n",
            "Training Epoch: 2 [23680/60000 (39%)]\tLoss: 0.232887\n",
            "Training Epoch: 2 [24320/60000 (41%)]\tLoss: 0.248316\n",
            "Training Epoch: 2 [24960/60000 (42%)]\tLoss: 0.255024\n",
            "Training Epoch: 2 [25600/60000 (43%)]\tLoss: 0.397842\n",
            "Training Epoch: 2 [26240/60000 (44%)]\tLoss: 0.377409\n",
            "Training Epoch: 2 [26880/60000 (45%)]\tLoss: 0.200196\n",
            "Training Epoch: 2 [27520/60000 (46%)]\tLoss: 0.296192\n",
            "Training Epoch: 2 [28160/60000 (47%)]\tLoss: 0.430922\n",
            "Training Epoch: 2 [28800/60000 (48%)]\tLoss: 0.600784\n",
            "Training Epoch: 2 [29440/60000 (49%)]\tLoss: 0.245514\n",
            "Training Epoch: 2 [30080/60000 (50%)]\tLoss: 0.353729\n",
            "Training Epoch: 2 [30720/60000 (51%)]\tLoss: 0.166016\n",
            "Training Epoch: 2 [31360/60000 (52%)]\tLoss: 0.297526\n",
            "Training Epoch: 2 [32000/60000 (53%)]\tLoss: 0.213570\n",
            "Training Epoch: 2 [32640/60000 (54%)]\tLoss: 0.353282\n",
            "Training Epoch: 2 [33280/60000 (55%)]\tLoss: 0.206899\n",
            "Training Epoch: 2 [33920/60000 (57%)]\tLoss: 0.467931\n",
            "Training Epoch: 2 [34560/60000 (58%)]\tLoss: 0.230488\n",
            "Training Epoch: 2 [35200/60000 (59%)]\tLoss: 0.207002\n",
            "Training Epoch: 2 [35840/60000 (60%)]\tLoss: 0.309563\n",
            "Training Epoch: 2 [36480/60000 (61%)]\tLoss: 0.200357\n",
            "Training Epoch: 2 [37120/60000 (62%)]\tLoss: 0.306221\n",
            "Training Epoch: 2 [37760/60000 (63%)]\tLoss: 0.201643\n",
            "Training Epoch: 2 [38400/60000 (64%)]\tLoss: 0.229774\n",
            "Training Epoch: 2 [39040/60000 (65%)]\tLoss: 0.209878\n",
            "Training Epoch: 2 [39680/60000 (66%)]\tLoss: 0.331534\n",
            "Training Epoch: 2 [40320/60000 (67%)]\tLoss: 0.300905\n",
            "Training Epoch: 2 [40960/60000 (68%)]\tLoss: 0.464370\n",
            "Training Epoch: 2 [41600/60000 (69%)]\tLoss: 0.296959\n",
            "Training Epoch: 2 [42240/60000 (70%)]\tLoss: 0.279755\n",
            "Training Epoch: 2 [42880/60000 (71%)]\tLoss: 0.217938\n",
            "Training Epoch: 2 [43520/60000 (72%)]\tLoss: 0.231749\n",
            "Training Epoch: 2 [44160/60000 (74%)]\tLoss: 0.508984\n",
            "Training Epoch: 2 [44800/60000 (75%)]\tLoss: 0.226486\n",
            "Training Epoch: 2 [45440/60000 (76%)]\tLoss: 0.313940\n",
            "Training Epoch: 2 [46080/60000 (77%)]\tLoss: 0.216500\n",
            "Training Epoch: 2 [46720/60000 (78%)]\tLoss: 0.191595\n",
            "Training Epoch: 2 [47360/60000 (79%)]\tLoss: 0.342809\n",
            "Training Epoch: 2 [48000/60000 (80%)]\tLoss: 0.456127\n",
            "Training Epoch: 2 [48640/60000 (81%)]\tLoss: 0.330419\n",
            "Training Epoch: 2 [49280/60000 (82%)]\tLoss: 0.315158\n",
            "Training Epoch: 2 [49920/60000 (83%)]\tLoss: 0.516595\n",
            "Training Epoch: 2 [50560/60000 (84%)]\tLoss: 0.461668\n",
            "Training Epoch: 2 [51200/60000 (85%)]\tLoss: 0.504255\n",
            "Training Epoch: 2 [51840/60000 (86%)]\tLoss: 0.292547\n",
            "Training Epoch: 2 [52480/60000 (87%)]\tLoss: 0.410771\n",
            "Training Epoch: 2 [53120/60000 (88%)]\tLoss: 0.158584\n",
            "Training Epoch: 2 [53760/60000 (90%)]\tLoss: 0.304579\n",
            "Training Epoch: 2 [54400/60000 (91%)]\tLoss: 0.477193\n",
            "Training Epoch: 2 [55040/60000 (92%)]\tLoss: 0.142813\n",
            "Training Epoch: 2 [55680/60000 (93%)]\tLoss: 0.210947\n",
            "Training Epoch: 2 [56320/60000 (94%)]\tLoss: 0.333157\n",
            "Training Epoch: 2 [56960/60000 (95%)]\tLoss: 0.294948\n",
            "Training Epoch: 2 [57600/60000 (96%)]\tLoss: 0.420358\n",
            "Training Epoch: 2 [58240/60000 (97%)]\tLoss: 0.284054\n",
            "Training Epoch: 2 [58880/60000 (98%)]\tLoss: 0.199025\n",
            "Training Epoch: 2 [59520/60000 (99%)]\tLoss: 0.388804\n",
            "\n",
            "Test set: Average loss: 0.1017, Accuracy: 9686/10000 (97%)\n",
            "\n",
            "Training Epoch: 3 [0/60000 (0%)]\tLoss: 0.354493\n",
            "Training Epoch: 3 [640/60000 (1%)]\tLoss: 0.289191\n",
            "Training Epoch: 3 [1280/60000 (2%)]\tLoss: 0.219667\n",
            "Training Epoch: 3 [1920/60000 (3%)]\tLoss: 0.164184\n",
            "Training Epoch: 3 [2560/60000 (4%)]\tLoss: 0.225218\n",
            "Training Epoch: 3 [3200/60000 (5%)]\tLoss: 0.313528\n",
            "Training Epoch: 3 [3840/60000 (6%)]\tLoss: 0.409712\n",
            "Training Epoch: 3 [4480/60000 (7%)]\tLoss: 0.407095\n",
            "Training Epoch: 3 [5120/60000 (9%)]\tLoss: 0.252524\n",
            "Training Epoch: 3 [5760/60000 (10%)]\tLoss: 0.178622\n",
            "Training Epoch: 3 [6400/60000 (11%)]\tLoss: 0.185676\n",
            "Training Epoch: 3 [7040/60000 (12%)]\tLoss: 0.204702\n",
            "Training Epoch: 3 [7680/60000 (13%)]\tLoss: 0.485598\n",
            "Training Epoch: 3 [8320/60000 (14%)]\tLoss: 0.149178\n",
            "Training Epoch: 3 [8960/60000 (15%)]\tLoss: 0.201883\n",
            "Training Epoch: 3 [9600/60000 (16%)]\tLoss: 0.132660\n",
            "Training Epoch: 3 [10240/60000 (17%)]\tLoss: 0.271767\n",
            "Training Epoch: 3 [10880/60000 (18%)]\tLoss: 0.192323\n",
            "Training Epoch: 3 [11520/60000 (19%)]\tLoss: 0.293704\n",
            "Training Epoch: 3 [12160/60000 (20%)]\tLoss: 0.121188\n",
            "Training Epoch: 3 [12800/60000 (21%)]\tLoss: 0.252665\n",
            "Training Epoch: 3 [13440/60000 (22%)]\tLoss: 0.170189\n",
            "Training Epoch: 3 [14080/60000 (23%)]\tLoss: 0.277778\n",
            "Training Epoch: 3 [14720/60000 (25%)]\tLoss: 0.354238\n",
            "Training Epoch: 3 [15360/60000 (26%)]\tLoss: 0.284397\n",
            "Training Epoch: 3 [16000/60000 (27%)]\tLoss: 0.306510\n",
            "Training Epoch: 3 [16640/60000 (28%)]\tLoss: 0.076564\n",
            "Training Epoch: 3 [17280/60000 (29%)]\tLoss: 0.267873\n",
            "Training Epoch: 3 [17920/60000 (30%)]\tLoss: 0.296838\n",
            "Training Epoch: 3 [18560/60000 (31%)]\tLoss: 0.216573\n",
            "Training Epoch: 3 [19200/60000 (32%)]\tLoss: 0.348615\n",
            "Training Epoch: 3 [19840/60000 (33%)]\tLoss: 0.304420\n",
            "Training Epoch: 3 [20480/60000 (34%)]\tLoss: 0.142529\n",
            "Training Epoch: 3 [21120/60000 (35%)]\tLoss: 0.288958\n",
            "Training Epoch: 3 [21760/60000 (36%)]\tLoss: 0.220070\n",
            "Training Epoch: 3 [22400/60000 (37%)]\tLoss: 0.238729\n",
            "Training Epoch: 3 [23040/60000 (38%)]\tLoss: 0.240145\n",
            "Training Epoch: 3 [23680/60000 (39%)]\tLoss: 0.297068\n",
            "Training Epoch: 3 [24320/60000 (41%)]\tLoss: 0.520315\n",
            "Training Epoch: 3 [24960/60000 (42%)]\tLoss: 0.306787\n",
            "Training Epoch: 3 [25600/60000 (43%)]\tLoss: 0.264427\n",
            "Training Epoch: 3 [26240/60000 (44%)]\tLoss: 0.278366\n",
            "Training Epoch: 3 [26880/60000 (45%)]\tLoss: 0.268805\n",
            "Training Epoch: 3 [27520/60000 (46%)]\tLoss: 0.277331\n",
            "Training Epoch: 3 [28160/60000 (47%)]\tLoss: 0.271889\n",
            "Training Epoch: 3 [28800/60000 (48%)]\tLoss: 0.238000\n",
            "Training Epoch: 3 [29440/60000 (49%)]\tLoss: 0.265009\n",
            "Training Epoch: 3 [30080/60000 (50%)]\tLoss: 0.365475\n",
            "Training Epoch: 3 [30720/60000 (51%)]\tLoss: 0.293514\n",
            "Training Epoch: 3 [31360/60000 (52%)]\tLoss: 0.317292\n",
            "Training Epoch: 3 [32000/60000 (53%)]\tLoss: 0.197919\n",
            "Training Epoch: 3 [32640/60000 (54%)]\tLoss: 0.355238\n",
            "Training Epoch: 3 [33280/60000 (55%)]\tLoss: 0.276133\n",
            "Training Epoch: 3 [33920/60000 (57%)]\tLoss: 0.204947\n",
            "Training Epoch: 3 [34560/60000 (58%)]\tLoss: 0.387107\n",
            "Training Epoch: 3 [35200/60000 (59%)]\tLoss: 0.281442\n",
            "Training Epoch: 3 [35840/60000 (60%)]\tLoss: 0.385169\n",
            "Training Epoch: 3 [36480/60000 (61%)]\tLoss: 0.224102\n",
            "Training Epoch: 3 [37120/60000 (62%)]\tLoss: 0.294574\n",
            "Training Epoch: 3 [37760/60000 (63%)]\tLoss: 0.273803\n",
            "Training Epoch: 3 [38400/60000 (64%)]\tLoss: 0.182744\n",
            "Training Epoch: 3 [39040/60000 (65%)]\tLoss: 0.195740\n",
            "Training Epoch: 3 [39680/60000 (66%)]\tLoss: 0.286374\n",
            "Training Epoch: 3 [40320/60000 (67%)]\tLoss: 0.224380\n",
            "Training Epoch: 3 [40960/60000 (68%)]\tLoss: 0.200858\n",
            "Training Epoch: 3 [41600/60000 (69%)]\tLoss: 0.331783\n",
            "Training Epoch: 3 [42240/60000 (70%)]\tLoss: 0.175487\n",
            "Training Epoch: 3 [42880/60000 (71%)]\tLoss: 0.223581\n",
            "Training Epoch: 3 [43520/60000 (72%)]\tLoss: 0.432909\n",
            "Training Epoch: 3 [44160/60000 (74%)]\tLoss: 0.274120\n",
            "Training Epoch: 3 [44800/60000 (75%)]\tLoss: 0.208176\n",
            "Training Epoch: 3 [45440/60000 (76%)]\tLoss: 0.234473\n",
            "Training Epoch: 3 [46080/60000 (77%)]\tLoss: 0.200653\n",
            "Training Epoch: 3 [46720/60000 (78%)]\tLoss: 0.234618\n",
            "Training Epoch: 3 [47360/60000 (79%)]\tLoss: 0.266194\n",
            "Training Epoch: 3 [48000/60000 (80%)]\tLoss: 0.257700\n",
            "Training Epoch: 3 [48640/60000 (81%)]\tLoss: 0.204534\n",
            "Training Epoch: 3 [49280/60000 (82%)]\tLoss: 0.192613\n",
            "Training Epoch: 3 [49920/60000 (83%)]\tLoss: 0.286745\n",
            "Training Epoch: 3 [50560/60000 (84%)]\tLoss: 0.294218\n",
            "Training Epoch: 3 [51200/60000 (85%)]\tLoss: 0.113897\n",
            "Training Epoch: 3 [51840/60000 (86%)]\tLoss: 0.298702\n",
            "Training Epoch: 3 [52480/60000 (87%)]\tLoss: 0.489373\n",
            "Training Epoch: 3 [53120/60000 (88%)]\tLoss: 0.280791\n",
            "Training Epoch: 3 [53760/60000 (90%)]\tLoss: 0.327707\n",
            "Training Epoch: 3 [54400/60000 (91%)]\tLoss: 0.251202\n",
            "Training Epoch: 3 [55040/60000 (92%)]\tLoss: 0.144342\n",
            "Training Epoch: 3 [55680/60000 (93%)]\tLoss: 0.459987\n",
            "Training Epoch: 3 [56320/60000 (94%)]\tLoss: 0.289162\n",
            "Training Epoch: 3 [56960/60000 (95%)]\tLoss: 0.307596\n",
            "Training Epoch: 3 [57600/60000 (96%)]\tLoss: 0.247863\n",
            "Training Epoch: 3 [58240/60000 (97%)]\tLoss: 0.181325\n",
            "Training Epoch: 3 [58880/60000 (98%)]\tLoss: 0.355429\n",
            "Training Epoch: 3 [59520/60000 (99%)]\tLoss: 0.246644\n",
            "\n",
            "Test set: Average loss: 0.0844, Accuracy: 9749/10000 (97%)\n",
            "\n"
          ]
        }
      ]
    },
    {
      "cell_type": "code",
      "source": [
        "# Let's set up a graph to see the model's performance (visually)\n",
        "print(\"ResNet Model Performance\\n\")\n",
        "\n",
        "figure = plt.figure()\n",
        "# let's make the graph joker themed for the new batman movie!\n",
        "plt.plot(train_counter, train_losses, color='green')\n",
        "plt.scatter(test_counter, test_losses, color='purple')\n",
        "plt.legend(['Train Loss', 'Test Loss'], loc='upper right')\n",
        "plt.xlabel('number of training examples seen')\n",
        "plt.ylabel('negative logarithmic loss')\n",
        "figure"
      ],
      "metadata": {
        "colab": {
          "base_uri": "https://localhost:8080/",
          "height": 576
        },
        "id": "WxDiOVuibWZi",
        "outputId": "f347ea29-4f55-4b3d-c160-afe7b124ab83"
      },
      "execution_count": 129,
      "outputs": [
        {
          "output_type": "stream",
          "name": "stdout",
          "text": [
            "ResNet Model Performance\n",
            "\n"
          ]
        },
        {
          "output_type": "execute_result",
          "data": {
            "image/png": "[encoded data removed]",
            "text/plain": [
              "<Figure size 432x288 with 1 Axes>"
            ]
          },
          "metadata": {},
          "execution_count": 129
        },
        {
          "output_type": "display_data",
          "data": {
            "image/png": "[encoded data removed]",
            "text/plain": [
              "<Figure size 432x288 with 1 Axes>"
            ]
          },
          "metadata": {
            "needs_background": "light"
          }
        }
      ]
    },
    {
      "cell_type": "code",
      "source": [
        "with torch.no_grad():\n",
        "  output = model(example_data)"
      ],
      "metadata": {
        "colab": {
          "base_uri": "https://localhost:8080/"
        },
        "id": "AoQN456CcRFD",
        "outputId": "cd2f7390-93ad-499b-82fe-6e291b3e0335"
      },
      "execution_count": 130,
      "outputs": [
        {
          "output_type": "stream",
          "name": "stderr",
          "text": [
            "/usr/local/lib/python3.7/dist-packages/ipykernel_launcher.py:18: UserWarning: Implicit dimension choice for log_softmax has been deprecated. Change the call to include dim=X as an argument.\n"
          ]
        }
      ]
    },
    {
      "cell_type": "code",
      "source": [
        "print(\"Our Model Predictions\")\n",
        "\n",
        "fig = plt.figure()\n",
        "for i in range(6):\n",
        "  plt.subplot(2,3,i+1)\n",
        "  plt.tight_layout()\n",
        "  plt.imshow(example_data[i][0], cmap='gray', interpolation='none')\n",
        "  plt.title(\"Prediction: {}\".format(\n",
        "    output.data.max(1, keepdim=True)[1][i].item()))\n",
        "  plt.xticks([])\n",
        "  plt.yticks([])\n",
        "fig"
      ],
      "metadata": {
        "colab": {
          "base_uri": "https://localhost:8080/",
          "height": 568
        },
        "id": "7Uhz2Z50dP_e",
        "outputId": "0b4a6dd9-9f28-43e3-ab2d-2434c0a60592"
      },
      "execution_count": 131,
      "outputs": [
        {
          "output_type": "stream",
          "name": "stdout",
          "text": [
            "Our Model Predictions\n"
          ]
        },
        {
          "output_type": "execute_result",
          "data": {
            "image/png": "[encoded data removed]",
            "text/plain": [
              "<Figure size 432x288 with 6 Axes>"
            ]
          },
          "metadata": {},
          "execution_count": 131
        },
        {
          "output_type": "display_data",
          "data": {
            "image/png": "[encoded data removed]",
            "text/plain": [
              "<Figure size 432x288 with 6 Axes>"
            ]
          },
          "metadata": {}
        }
      ]
    }
  ]
}