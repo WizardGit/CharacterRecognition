{
 "cells": [
  {
   "cell_type": "markdown",
   "id": "063a6a89",
   "metadata": {
    "papermill": {
     "duration": 0.012276,
     "end_time": "2022-03-11T03:57:28.416665",
     "exception": false,
     "start_time": "2022-03-11T03:57:28.404389",
     "status": "completed"
    },
    "tags": []
   },
   "source": [
    "<h3>Author: Kaiser Slocum</h3>\n",
    "<h3>Date Last Edited: 3/10/2022</h3>\n",
    "<h3>All Rights Reserved</h3>\n",
    "This is a model that combines: 5 operators (addition, multiplication, division, subtraction, equal) and a decimal point, all uppercase and lowercase letters of the English alphabet (a-z)(A-Z), all ten digits (0-9)"
   ]
  },
  {
   "cell_type": "code",
   "execution_count": 1,
   "id": "6b61abd5",
   "metadata": {
    "execution": {
     "iopub.execute_input": "2022-03-11T03:57:28.455840Z",
     "iopub.status.busy": "2022-03-11T03:57:28.455047Z",
     "iopub.status.idle": "2022-03-11T03:57:52.163168Z",
     "shell.execute_reply": "2022-03-11T03:57:52.164101Z",
     "shell.execute_reply.started": "2022-03-11T03:43:46.515658Z"
    },
    "papermill": {
     "duration": 23.734357,
     "end_time": "2022-03-11T03:57:52.164432",
     "exception": false,
     "start_time": "2022-03-11T03:57:28.430075",
     "status": "completed"
    },
    "tags": []
   },
   "outputs": [
    {
     "name": "stdout",
     "output_type": "stream",
     "text": [
      "Collecting torchplot\r\n",
      "  Downloading torchplot-0.2.0.tar.gz (9.9 kB)\r\n",
      "  Installing build dependencies ... \u001b[?25l-\b \b\\\b \b|\b \b/\b \bdone\r\n",
      "\u001b[?25h  Getting requirements to build wheel ... \u001b[?25l-\b \b\\\b \bdone\r\n",
      "\u001b[?25h  Preparing metadata (pyproject.toml) ... \u001b[?25l-\b \b\\\b \bdone\r\n",
      "\u001b[?25hRequirement already satisfied: torch>=1.3 in /opt/conda/lib/python3.7/site-packages (from torchplot) (1.9.1)\r\n",
      "Requirement already satisfied: matplotlib>=3.1.3 in /opt/conda/lib/python3.7/site-packages (from torchplot) (3.5.1)\r\n",
      "Requirement already satisfied: cycler>=0.10 in /opt/conda/lib/python3.7/site-packages (from matplotlib>=3.1.3->torchplot) (0.11.0)\r\n",
      "Requirement already satisfied: pyparsing>=2.2.1 in /opt/conda/lib/python3.7/site-packages (from matplotlib>=3.1.3->torchplot) (3.0.6)\r\n",
      "Requirement already satisfied: pillow>=6.2.0 in /opt/conda/lib/python3.7/site-packages (from matplotlib>=3.1.3->torchplot) (8.2.0)\r\n",
      "Requirement already satisfied: numpy>=1.17 in /opt/conda/lib/python3.7/site-packages (from matplotlib>=3.1.3->torchplot) (1.20.3)\r\n",
      "Requirement already satisfied: kiwisolver>=1.0.1 in /opt/conda/lib/python3.7/site-packages (from matplotlib>=3.1.3->torchplot) (1.3.2)\r\n",
      "Requirement already satisfied: fonttools>=4.22.0 in /opt/conda/lib/python3.7/site-packages (from matplotlib>=3.1.3->torchplot) (4.28.4)\r\n",
      "Requirement already satisfied: python-dateutil>=2.7 in /opt/conda/lib/python3.7/site-packages (from matplotlib>=3.1.3->torchplot) (2.8.2)\r\n",
      "Requirement already satisfied: packaging>=20.0 in /opt/conda/lib/python3.7/site-packages (from matplotlib>=3.1.3->torchplot) (21.3)\r\n",
      "Requirement already satisfied: typing-extensions in /opt/conda/lib/python3.7/site-packages (from torch>=1.3->torchplot) (4.0.1)\r\n",
      "Requirement already satisfied: six>=1.5 in /opt/conda/lib/python3.7/site-packages (from python-dateutil>=2.7->matplotlib>=3.1.3->torchplot) (1.16.0)\r\n",
      "Building wheels for collected packages: torchplot\r\n",
      "  Building wheel for torchplot (pyproject.toml) ... \u001b[?25l-\b \b\\\b \b|\b \b/\b \b-\b \bdone\r\n",
      "\u001b[?25h  Created wheel for torchplot: filename=torchplot-0.2.0-py3-none-any.whl size=8327 sha256=3d346f39a081bffc875ee981d5f2e77c6e2ca65fd50be9e350f942dc95528934\r\n",
      "  Stored in directory: /root/.cache/pip/wheels/10/2c/51/20e41cb36ecf77321dfab07bc2119951e030e717222d78d742\r\n",
      "Successfully built torchplot\r\n",
      "Installing collected packages: torchplot\r\n",
      "Successfully installed torchplot-0.2.0\r\n",
      "\u001b[33mWARNING: Running pip as the 'root' user can result in broken permissions and conflicting behaviour with the system package manager. It is recommended to use a virtual environment instead: https://pip.pypa.io/warnings/venv\u001b[0m\r\n",
      "PyTorch Version:  1.9.1\n",
      "Torchvision Version:  0.10.1\n",
      "We will be using the: cuda\n"
     ]
    }
   ],
   "source": [
    "#This is for notebooks that don't have torchplot installed\n",
    "!pip install torchplot\n",
    "# Here we are importing the necessary libraries\n",
    "import numpy as np\n",
    "import torch\n",
    "import torch.nn.functional as F\n",
    "import torchvision\n",
    "import matplotlib.pyplot as plt\n",
    "import torchplot as tplt\n",
    "import numpy as np\n",
    "import torch.optim as optim\n",
    "\n",
    "from torch import nn\n",
    "from torch import optim\n",
    "from torchvision import datasets, models, transforms\n",
    "from tqdm import tqdm\n",
    "from torch.utils.data import DataLoader, sampler, random_split, ConcatDataset\n",
    "\n",
    "print(\"PyTorch Version: \",torch.__version__)\n",
    "print(\"Torchvision Version: \",torchvision.__version__)\n",
    "device = torch.device(\"cuda\" if torch.cuda.is_available() else \"cpu\")\n",
    "print(\"We will be using the:\", device)"
   ]
  },
  {
   "cell_type": "code",
   "execution_count": 2,
   "id": "223197c6",
   "metadata": {
    "execution": {
     "iopub.execute_input": "2022-03-11T03:57:52.211487Z",
     "iopub.status.busy": "2022-03-11T03:57:52.210956Z",
     "iopub.status.idle": "2022-03-11T03:58:18.472530Z",
     "shell.execute_reply": "2022-03-11T03:58:18.472008Z",
     "shell.execute_reply.started": "2022-03-11T03:44:11.240583Z"
    },
    "papermill": {
     "duration": 26.288659,
     "end_time": "2022-03-11T03:58:18.472671",
     "exception": false,
     "start_time": "2022-03-11T03:57:52.184012",
     "status": "completed"
    },
    "tags": []
   },
   "outputs": [
    {
     "name": "stdout",
     "output_type": "stream",
     "text": [
      "Downloading https://www.itl.nist.gov/iaui/vip/cs_links/EMNIST/gzip.zip to ./EMNIST/raw/gzip.zip\n"
     ]
    },
    {
     "data": {
      "application/vnd.jupyter.widget-view+json": {
       "model_id": "8c303cfa10f14bd3ba12cb1c686867f6",
       "version_major": 2,
       "version_minor": 0
      },
      "text/plain": [
       "  0%|          | 0/561753746 [00:00<?, ?it/s]"
      ]
     },
     "metadata": {},
     "output_type": "display_data"
    },
    {
     "name": "stdout",
     "output_type": "stream",
     "text": [
      "Extracting ./EMNIST/raw/gzip.zip to ./EMNIST/raw\n"
     ]
    },
    {
     "name": "stderr",
     "output_type": "stream",
     "text": [
      "/opt/conda/lib/python3.7/site-packages/torchvision/datasets/mnist.py:498: UserWarning: The given NumPy array is not writeable, and PyTorch does not support non-writeable tensors. This means you can write to the underlying (supposedly non-writeable) NumPy array using the tensor. You may want to copy the array to protect its data or make it writeable before converting it to a tensor. This type of warning will be suppressed for the rest of this program. (Triggered internally at  /usr/local/src/pytorch/torch/csrc/utils/tensor_numpy.cpp:174.)\n",
      "  return torch.from_numpy(parsed.astype(m[2], copy=False)).view(*s)\n"
     ]
    }
   ],
   "source": [
    "transformAlexNet = transforms.Compose([\n",
    "            transforms.Grayscale(num_output_channels=3),\n",
    "            transforms.Resize(227),\n",
    "            transforms.CenterCrop(227),\n",
    "            transforms.ToTensor(),\n",
    "            transforms.Normalize((0.485, 0.456, 0.406), (0.229, 0.224, 0.225)),\n",
    "])\n",
    "transformLeNet = transforms.Compose([\n",
    "            transforms.Grayscale(num_output_channels=1),\n",
    "            transforms.Resize(28),\n",
    "            transforms.CenterCrop(28),  \n",
    "            transforms.ToTensor()])\n",
    "# The only reason we want to use an invert is so that we have white on black for both datasets!\n",
    "transformLeNetInvert = transforms.Compose([\n",
    "            transforms.Grayscale(num_output_channels=1),\n",
    "            transforms.Resize(28),\n",
    "            transforms.CenterCrop(28),\n",
    "            transforms.RandomInvert(1),\n",
    "            transforms.ToTensor()])\n",
    "\n",
    "emnist_dataset = datasets.EMNIST(root='./', split='balanced', train=True, download=True, transform=transformLeNet)\n",
    "math_dataset   = datasets.ImageFolder('../input/customarchive/CustomArchive/dataset', transform=transformLeNetInvert)\n",
    "\n",
    "complete_dataset = ConcatDataset([math_dataset, emnist_dataset])\n",
    "train_dataset = DataLoader(complete_dataset,batch_size=100,shuffle=True)"
   ]
  },
  {
   "cell_type": "code",
   "execution_count": 3,
   "id": "a56b0120",
   "metadata": {
    "execution": {
     "iopub.execute_input": "2022-03-11T03:58:18.523617Z",
     "iopub.status.busy": "2022-03-11T03:58:18.523024Z",
     "iopub.status.idle": "2022-03-11T03:58:21.744543Z",
     "shell.execute_reply": "2022-03-11T03:58:21.745071Z",
     "shell.execute_reply.started": "2022-03-11T03:44:54.003800Z"
    },
    "papermill": {
     "duration": 3.250277,
     "end_time": "2022-03-11T03:58:21.745240",
     "exception": false,
     "start_time": "2022-03-11T03:58:18.494963",
     "status": "completed"
    },
    "tags": []
   },
   "outputs": [
    {
     "data": {
      "text/plain": [
       "<matplotlib.image.AxesImage at 0x7f42a3de1290>"
      ]
     },
     "execution_count": 3,
     "metadata": {},
     "output_type": "execute_result"
    },
    {
     "data": {
      "image/png": "[encoded data removed]",
      "text/plain": [
       "<Figure size 576x576 with 1 Axes>"
      ]
     },
     "metadata": {
      "needs_background": "light"
     },
     "output_type": "display_data"
    }
   ],
   "source": [
    "real_batch = next(iter(train_dataset))\n",
    "plt.figure(figsize=(8,8))\n",
    "plt.axis(\"off\")\n",
    "plt.title(\"Training Images\")\n",
    "import torchvision.utils as vutils\n",
    "plt.imshow(np.transpose(vutils.make_grid(real_batch[0].to(device)[:56], padding=2, normalize=True).cpu(),(1,2,0)))"
   ]
  },
  {
   "cell_type": "code",
   "execution_count": 4,
   "id": "dbeab508",
   "metadata": {
    "execution": {
     "iopub.execute_input": "2022-03-11T03:58:23.010887Z",
     "iopub.status.busy": "2022-03-11T03:58:23.009993Z",
     "iopub.status.idle": "2022-03-11T03:58:23.012975Z",
     "shell.execute_reply": "2022-03-11T03:58:23.014027Z",
     "shell.execute_reply.started": "2022-03-11T03:44:57.435460Z"
    },
    "papermill": {
     "duration": 1.244546,
     "end_time": "2022-03-11T03:58:23.014233",
     "exception": false,
     "start_time": "2022-03-11T03:58:21.769687",
     "status": "completed"
    },
    "tags": []
   },
   "outputs": [],
   "source": [
    "# Requires the LeNet transformations and runs fairly fast\n",
    "class LeNet(nn.Module):\n",
    "    def __init__(self, nclasses=68):\n",
    "        super().__init__()\n",
    "        self.conv1 = nn.Conv2d(1, 6,5,padding=2)\n",
    "        self.conv2 = nn.Conv2d(6,16,5, padding=0)\n",
    "        self.fc1 = nn.Linear(5*5*16, 120)\n",
    "        self.fc2 = nn.Linear(120, 84)\n",
    "        self.fc3 = nn.Linear(84,nclasses)        \n",
    "    def forward(self, x):\n",
    "        x = torch.sigmoid(self.conv1(x))\n",
    "        x =  nn.MaxPool2d(kernel_size=2, stride=2)(x)\n",
    "        x = torch.sigmoid(self.conv2(x))\n",
    "        x =  nn.MaxPool2d(kernel_size=2, stride=2)(x)        \n",
    "        x = x.view(-1, 5*5*16)        \n",
    "        x = torch.sigmoid(self.fc1(x))\n",
    "        x = torch.sigmoid(self.fc2(x))\n",
    "        x = self.fc3(x)\n",
    "        return x"
   ]
  },
  {
   "cell_type": "code",
   "execution_count": 5,
   "id": "b4b47905",
   "metadata": {
    "execution": {
     "iopub.execute_input": "2022-03-11T03:58:23.541246Z",
     "iopub.status.busy": "2022-03-11T03:58:23.540276Z",
     "iopub.status.idle": "2022-03-11T03:58:23.551542Z",
     "shell.execute_reply": "2022-03-11T03:58:23.552683Z",
     "shell.execute_reply.started": "2022-03-11T03:44:57.448391Z"
    },
    "papermill": {
     "duration": 0.111563,
     "end_time": "2022-03-11T03:58:23.552942",
     "exception": false,
     "start_time": "2022-03-11T03:58:23.441379",
     "status": "completed"
    },
    "tags": []
   },
   "outputs": [],
   "source": [
    "# Requires the AlexNet transformations (i.e. bigger images and 3 channels) and runs much slower than LeNet\n",
    "class AlexNet(nn.Module):\n",
    "    def __init__(self, nclasses=68):\n",
    "        super(AlexNet, self).__init__()\n",
    "        self.conv1 = nn.Conv2d(in_channels=3, out_channels= 96, kernel_size= 11, stride=4, padding=0 )\n",
    "        self.maxpool = nn.MaxPool2d(kernel_size=3, stride=2)\n",
    "        self.conv2 = nn.Conv2d(in_channels=96, out_channels=256, kernel_size=5, stride= 1, padding= 2)\n",
    "        self.conv3 = nn.Conv2d(in_channels=256, out_channels=384, kernel_size=3, stride= 1, padding= 1)\n",
    "        self.conv4 = nn.Conv2d(in_channels=384, out_channels=384, kernel_size=3, stride=1, padding=1)\n",
    "        self.conv5 = nn.Conv2d(in_channels=384, out_channels=256, kernel_size=3, stride=1, padding=1)\n",
    "        self.fc1  = nn.Linear(in_features= 9216, out_features= 4096)\n",
    "        self.fc2  = nn.Linear(in_features= 4096, out_features= 4096)\n",
    "        self.fc3 = nn.Linear(in_features=4096 , out_features=nclasses)\n",
    "    def forward(self,x):\n",
    "        x = F.relu(self.conv1(x))\n",
    "        x = self.maxpool(x)\n",
    "        x = F.relu(self.conv2(x))\n",
    "        x = self.maxpool(x)\n",
    "        x = F.relu(self.conv3(x))\n",
    "        x = F.relu(self.conv4(x))\n",
    "        x = F.relu(self.conv5(x))\n",
    "        x = self.maxpool(x)\n",
    "        x = x.reshape(x.shape[0], -1)\n",
    "        x = F.relu(self.fc1(x))\n",
    "        x = F.relu(self.fc2(x))\n",
    "        x = self.fc3(x)\n",
    "        return x"
   ]
  },
  {
   "cell_type": "code",
   "execution_count": 6,
   "id": "8aff0613",
   "metadata": {
    "execution": {
     "iopub.execute_input": "2022-03-11T03:58:23.707693Z",
     "iopub.status.busy": "2022-03-11T03:58:23.706739Z",
     "iopub.status.idle": "2022-03-11T03:58:23.722861Z",
     "shell.execute_reply": "2022-03-11T03:58:23.723518Z",
     "shell.execute_reply.started": "2022-03-11T03:44:57.464778Z"
    },
    "papermill": {
     "duration": 0.1177,
     "end_time": "2022-03-11T03:58:23.723741",
     "exception": false,
     "start_time": "2022-03-11T03:58:23.606041",
     "status": "completed"
    },
    "tags": []
   },
   "outputs": [],
   "source": [
    "# Will append the test accuracy to the test_accuracy_history[]\n",
    "def evaluate(model, test_data, test_accuracy_history, test_image_datasets_len):\n",
    "    with torch.no_grad():\n",
    "        test_accuracy = 0\n",
    "        for (data, label) in test_data:\n",
    "            data = data.to(device)\n",
    "            label = label.to(device)\n",
    "            out = model(data)\n",
    "            answers = out.max(dim=1)[1]\n",
    "            test_accuracy += (answers == label).sum()\n",
    "    test_accuracy = test_accuracy / test_image_datasets_len * 100\n",
    "    test_accuracy_history.append(test_accuracy)\n",
    "    return test_accuracy\n",
    "# Does not accept the test_accuracy_history[]\n",
    "# Used for simply displaying accuracy of a model\n",
    "def evaluateAcc(model, test_data, test_data_len):\n",
    "    with torch.no_grad():\n",
    "        test_accuracy = 0\n",
    "        for (data, label) in test_data:\n",
    "            data = data.to(device)            \n",
    "            label = label.to(device)\n",
    "            out = model(data)            \n",
    "            answers = out.max(dim=1)[1]\n",
    "            test_accuracy += (answers == label).sum()\n",
    "    test_accuracy = test_accuracy / test_data_len * 100\n",
    "    return test_accuracy"
   ]
  },
  {
   "cell_type": "code",
   "execution_count": 7,
   "id": "84b433a1",
   "metadata": {
    "execution": {
     "iopub.execute_input": "2022-03-11T03:58:23.851520Z",
     "iopub.status.busy": "2022-03-11T03:58:23.850334Z",
     "iopub.status.idle": "2022-03-11T03:58:23.853954Z",
     "shell.execute_reply": "2022-03-11T03:58:23.855288Z",
     "shell.execute_reply.started": "2022-03-11T03:44:57.479943Z"
    },
    "papermill": {
     "duration": 0.071965,
     "end_time": "2022-03-11T03:58:23.855504",
     "exception": false,
     "start_time": "2022-03-11T03:58:23.783539",
     "status": "completed"
    },
    "tags": []
   },
   "outputs": [],
   "source": [
    "def super_plotter(loss_history, test_accuracy_history, train_accuracy_history):\n",
    "    # Plot the loss per iteration\n",
    "    tplt.plot(loss_history, label=\"Loss\")\n",
    "    tplt.title(\"Neural Network Loss\")\n",
    "    tplt.xlabel(\"Number of iterations\")\n",
    "    tplt.ylabel(\"Loss History\")\n",
    "    tplt.legend(loc='upper right')\n",
    "    tplt.show()\n",
    "    # Plot the accuracy per epoch\n",
    "    tplt.plot(test_accuracy_history, label=\"Test\")\n",
    "    tplt.plot(train_accuracy_history, label=\"Train\")\n",
    "    tplt.title(\"Neural Network Accuracy\")\n",
    "    tplt.xlabel(\"Epoch Number\")\n",
    "    tplt.ylabel(\"Accuracy\")\n",
    "    tplt.legend(loc='lower right')\n",
    "    tplt.show()"
   ]
  },
  {
   "cell_type": "code",
   "execution_count": 8,
   "id": "24b7bd58",
   "metadata": {
    "execution": {
     "iopub.execute_input": "2022-03-11T03:58:23.964727Z",
     "iopub.status.busy": "2022-03-11T03:58:23.963870Z",
     "iopub.status.idle": "2022-03-11T03:58:23.966340Z",
     "shell.execute_reply": "2022-03-11T03:58:23.965921Z",
     "shell.execute_reply.started": "2022-03-11T03:44:57.490830Z"
    },
    "papermill": {
     "duration": 0.041716,
     "end_time": "2022-03-11T03:58:23.966451",
     "exception": false,
     "start_time": "2022-03-11T03:58:23.924735",
     "status": "completed"
    },
    "tags": []
   },
   "outputs": [],
   "source": [
    "def super_model_trainer(model, train_dataset, train_dataloader, test_dataset, test_dataloader, batch_size, optimizer, nepochs): \n",
    "    model.train()\n",
    "    loss_history = []\n",
    "    test_accuracy_history = []\n",
    "    train_accuracy_history = []\n",
    "    loss = torch.Tensor([0])\n",
    "    for epoch in tqdm(range(nepochs), desc=f\"Epoch\", unit=\"epoch\", disable=False):\n",
    "        accuracy = 0\n",
    "        for (data, label) in tqdm(train_dataloader, desc=\"iteration\", unit=\"%\", disable=True):\n",
    "            # Here we clear the gradients\n",
    "            optimizer.zero_grad(set_to_none=True)        \n",
    "            # We need to make sure the tensors are on the same device as our model\n",
    "            data = data.to(device)\n",
    "            label = label.to(device)\n",
    "            out = model(data)        \n",
    "            loss = LossFunction(out, label)        \n",
    "            loss.backward() # This function calculates all our gradients\n",
    "            optimizer.step() # This function does our gradient descent with those gradients\n",
    "            loss_history.append(loss.item())\n",
    "            answers = out.max(dim=1)[1]\n",
    "            accuracy += (answers == label).sum()\n",
    "        # Append the training accuracy\n",
    "        accuracy = accuracy / len(train_dataset)*100\n",
    "        train_accuracy_history.append(accuracy)\n",
    "    \n",
    "        #let's get the test accuracy to see how well it generalizes\n",
    "        test_accuracy = evaluate(model, test_dataloader, test_accuracy_history, len(test_dataset))\n",
    "        #Print the results\n",
    "        print(f\"Epoch: {epoch} \\n Loss: {loss.item()} \\n Train Accuracy: {accuracy:.2f}% \\n Test Accuracy: {test_accuracy:.2f}%\")\n",
    "    super_plotter(loss_history, test_accuracy_history, train_accuracy_history)"
   ]
  },
  {
   "cell_type": "code",
   "execution_count": 9,
   "id": "a5fb738d",
   "metadata": {
    "execution": {
     "iopub.execute_input": "2022-03-11T03:58:24.022534Z",
     "iopub.status.busy": "2022-03-11T03:58:24.021734Z",
     "iopub.status.idle": "2022-03-11T04:30:43.247248Z",
     "shell.execute_reply": "2022-03-11T04:30:43.246388Z",
     "shell.execute_reply.started": "2022-03-11T03:47:27.282250Z"
    },
    "papermill": {
     "duration": 1939.256526,
     "end_time": "2022-03-11T04:30:43.247379",
     "exception": false,
     "start_time": "2022-03-11T03:58:23.990853",
     "status": "completed"
    },
    "tags": []
   },
   "outputs": [
    {
     "name": "stdout",
     "output_type": "stream",
     "text": [
      "AlexNet(\n",
      "  (conv1): Conv2d(3, 96, kernel_size=(11, 11), stride=(4, 4))\n",
      "  (maxpool): MaxPool2d(kernel_size=3, stride=2, padding=0, dilation=1, ceil_mode=False)\n",
      "  (conv2): Conv2d(96, 256, kernel_size=(5, 5), stride=(1, 1), padding=(2, 2))\n",
      "  (conv3): Conv2d(256, 384, kernel_size=(3, 3), stride=(1, 1), padding=(1, 1))\n",
      "  (conv4): Conv2d(384, 384, kernel_size=(3, 3), stride=(1, 1), padding=(1, 1))\n",
      "  (conv5): Conv2d(384, 256, kernel_size=(3, 3), stride=(1, 1), padding=(1, 1))\n",
      "  (fc1): Linear(in_features=9216, out_features=4096, bias=True)\n",
      "  (fc2): Linear(in_features=4096, out_features=4096, bias=True)\n",
      "  (fc3): Linear(in_features=4096, out_features=53, bias=True)\n",
      ")\n"
     ]
    },
    {
     "name": "stderr",
     "output_type": "stream",
     "text": [
      "Epoch:  20%|██        | 1/5 [07:05<28:20, 425.15s/epoch]"
     ]
    },
    {
     "name": "stdout",
     "output_type": "stream",
     "text": [
      "Epoch: 0 \n",
      " Loss: 0.3096145689487457 \n",
      " Train Accuracy: 75.31% \n",
      " Test Accuracy: 83.89%\n"
     ]
    },
    {
     "name": "stderr",
     "output_type": "stream",
     "text": [
      "Epoch:  40%|████      | 2/5 [13:25<19:55, 398.52s/epoch]"
     ]
    },
    {
     "name": "stdout",
     "output_type": "stream",
     "text": [
      "Epoch: 1 \n",
      " Loss: 0.35507932305336 \n",
      " Train Accuracy: 86.21% \n",
      " Test Accuracy: 86.30%\n"
     ]
    },
    {
     "name": "stderr",
     "output_type": "stream",
     "text": [
      "Epoch:  60%|██████    | 3/5 [19:43<12:58, 389.32s/epoch]"
     ]
    },
    {
     "name": "stdout",
     "output_type": "stream",
     "text": [
      "Epoch: 2 \n",
      " Loss: 0.4722461402416229 \n",
      " Train Accuracy: 87.37% \n",
      " Test Accuracy: 86.76%\n"
     ]
    },
    {
     "name": "stderr",
     "output_type": "stream",
     "text": [
      "Epoch:  80%|████████  | 4/5 [26:01<06:25, 385.05s/epoch]"
     ]
    },
    {
     "name": "stdout",
     "output_type": "stream",
     "text": [
      "Epoch: 3 \n",
      " Loss: 0.37296953797340393 \n",
      " Train Accuracy: 88.27% \n",
      " Test Accuracy: 86.71%\n"
     ]
    },
    {
     "name": "stderr",
     "output_type": "stream",
     "text": [
      "Epoch: 100%|██████████| 5/5 [32:16<00:00, 387.29s/epoch]"
     ]
    },
    {
     "name": "stdout",
     "output_type": "stream",
     "text": [
      "Epoch: 4 \n",
      " Loss: 0.24501372873783112 \n",
      " Train Accuracy: 88.40% \n",
      " Test Accuracy: 87.14%\n"
     ]
    },
    {
     "name": "stderr",
     "output_type": "stream",
     "text": [
      "\n"
     ]
    },
    {
     "data": {
      "image/png": "[encoded data removed]",
      "text/plain": [
       "<Figure size 432x288 with 1 Axes>"
      ]
     },
     "metadata": {
      "needs_background": "light"
     },
     "output_type": "display_data"
    },
    {
     "data": {
      "image/png": "[encoded data removed]",
      "text/plain": [
       "<Figure size 432x288 with 1 Axes>"
      ]
     },
     "metadata": {
      "needs_background": "light"
     },
     "output_type": "display_data"
    }
   ],
   "source": [
    "# Let's set up some parameters\n",
    "learning_rate=0.001\n",
    "nepochs = 5\n",
    "nclasses=53\n",
    "batch_size = 64\n",
    "\n",
    "transformAlexNet = transforms.Compose([\n",
    "            transforms.Grayscale(num_output_channels=3),\n",
    "            transforms.Resize(227),\n",
    "            transforms.CenterCrop(227),\n",
    "            transforms.ToTensor(),\n",
    "            transforms.Normalize((0.485, 0.456, 0.406), (0.229, 0.224, 0.225)),\n",
    "])\n",
    "\n",
    "transformLeNet = transforms.Compose([\n",
    "            transforms.Grayscale(num_output_channels=1),\n",
    "            transforms.Resize(28),\n",
    "            transforms.CenterCrop(28), \n",
    "            transforms.ToTensor()])\n",
    "\n",
    "# We'll use AlexNet here, but you could choose LeNet\n",
    "model = AlexNet(nclasses).to(device)\n",
    "transform = transformAlexNet\n",
    "\n",
    "optimizer = torch.optim.Adam(model.parameters(), learning_rate)\n",
    "LossFunction = nn.CrossEntropyLoss()\n",
    "print(model)\n",
    "\n",
    "# EMNIST train and test datasets\n",
    "emnist_train_dataset = datasets.EMNIST(root='./', split='balanced', train=True, download=True, transform=transform)\n",
    "emnist_test_dataset = datasets.EMNIST(root='./', split='balanced', train=False, download=False, transform=transform)\n",
    "\n",
    "# Digit/Variable train and test datasets\n",
    "m_dataset = datasets.ImageFolder('../input/digitarchive/dataset', transform=transform)\n",
    "m_train_dataset, m_test_dataset = random_split(m_dataset, [int(len(m_dataset)*0.80), int(len(m_dataset)-int(len(m_dataset)*0.80))])\n",
    "\n",
    "# Operator and Decimal train and test datasets\n",
    "math_dataset = datasets.ImageFolder('../input/customarchive/CustomArchive/dataset', transform=transform)\n",
    "math_train_dataset, math_test_dataset = random_split(math_dataset, [int(len(math_dataset)*0.80), int(len(math_dataset) - int(len(math_dataset)*0.80))])\n",
    "\n",
    "# You can also replace all the three above datasets by just using the custom one I created below\n",
    "# However it's very slow and clunky which means it generally performs worse\n",
    "#dataset = datasets.ImageFolder('../input/emnistbalancedoperator/EMNIST', transform=transform)\n",
    "#train_dataset, test_dataset = random_split(dataset, [int(len(dataset)*0.75), int(len(dataset) - int(len(dataset)*0.75))])\n",
    "\n",
    "# Combine the train and test datasets and shuffle them together\n",
    "train_dataset = ConcatDataset([math_train_dataset, emnist_train_dataset, m_train_dataset])\n",
    "train_dataloader = DataLoader(train_dataset,batch_size=batch_size,shuffle=True)\n",
    "test_dataset = ConcatDataset([math_test_dataset, emnist_test_dataset, m_test_dataset])\n",
    "test_dataloader = DataLoader(test_dataset,batch_size=batch_size,shuffle=True)\n",
    "\n",
    "#Training \n",
    "super_model_trainer(model, train_dataset, train_dataloader, test_dataset, test_dataloader, batch_size, optimizer, nepochs)"
   ]
  },
  {
   "cell_type": "code",
   "execution_count": 10,
   "id": "21d24be0",
   "metadata": {
    "execution": {
     "iopub.execute_input": "2022-03-11T04:30:43.311815Z",
     "iopub.status.busy": "2022-03-11T04:30:43.311212Z",
     "iopub.status.idle": "2022-03-11T04:31:54.603714Z",
     "shell.execute_reply": "2022-03-11T04:31:54.604387Z",
     "shell.execute_reply.started": "2022-03-11T03:50:36.135473Z"
    },
    "papermill": {
     "duration": 71.32828,
     "end_time": "2022-03-11T04:31:54.604725",
     "exception": false,
     "start_time": "2022-03-11T04:30:43.276445",
     "status": "completed"
    },
    "tags": []
   },
   "outputs": [
    {
     "name": "stdout",
     "output_type": "stream",
     "text": [
      "EMNIST Accuracy: 87.00%\n",
      "Operator Accuracy: 98.03%\n",
      "Full Archive Accuracy: 87.86%\n"
     ]
    }
   ],
   "source": [
    "# Here we'll test the accuracy on all of the test cuts of the datasets\n",
    "test_data_emnist = DataLoader(emnist_test_dataset, batch_size=batch_size, shuffle=True)\n",
    "math_test_dataset = datasets.ImageFolder('../input/customarchive/CustomArchive/dataset', transform=transform)\n",
    "test_data_math = DataLoader(math_test_dataset, batch_size=batch_size, shuffle=True)\n",
    "m_dataset = datasets.ImageFolder('../input/digitarchive/dataset', transform=transform)\n",
    "test_data_m = DataLoader(m_dataset, batch_size=batch_size, shuffle=True)\n",
    "\n",
    "test_accuracy_emnist = evaluateAcc(model, test_data_emnist, len(emnist_test_dataset))\n",
    "test_accuracy_math = evaluateAcc(model, test_data_math, len(math_test_dataset))\n",
    "test_accuracy_m = evaluateAcc(model, test_data_m, len(m_dataset))\n",
    "\n",
    "#Print the results\n",
    "print(f\"EMNIST Accuracy: {test_accuracy_emnist:.2f}%\")\n",
    "print(f\"Operator Accuracy: {test_accuracy_math:.2f}%\")\n",
    "print(f\"Full Archive Accuracy: {test_accuracy_m:.2f}%\")"
   ]
  },
  {
   "cell_type": "code",
   "execution_count": null,
   "id": "bc0a6ce9",
   "metadata": {
    "papermill": {
     "duration": 0.029111,
     "end_time": "2022-03-11T04:31:54.664393",
     "exception": false,
     "start_time": "2022-03-11T04:31:54.635282",
     "status": "completed"
    },
    "tags": []
   },
   "outputs": [],
   "source": []
  }
 ],
 "metadata": {
  "kernelspec": {
   "display_name": "Python 3",
   "language": "python",
   "name": "python3"
  },
  "language_info": {
   "codemirror_mode": {
    "name": "ipython",
    "version": 3
   },
   "file_extension": ".py",
   "mimetype": "text/x-python",
   "name": "python",
   "nbconvert_exporter": "python",
   "pygments_lexer": "ipython3",
   "version": "3.7.12"
  },
  "papermill": {
   "default_parameters": {},
   "duration": 2076.060406,
   "end_time": "2022-03-11T04:31:56.009850",
   "environment_variables": {},
   "exception": null,
   "input_path": "__notebook__.ipynb",
   "output_path": "__notebook__.ipynb",
   "parameters": {},
   "start_time": "2022-03-11T03:57:19.949444",
   "version": "2.3.3"
  },
  "widgets": {
   "application/vnd.jupyter.widget-state+json": {
    "state": {
     "08670732a57c47a0a20cf55ffa7d539d": {
      "model_module": "@jupyter-widgets/controls",
      "model_module_version": "1.5.0",
      "model_name": "HTMLModel",
      "state": {
       "_dom_classes": [],
       "_model_module": "@jupyter-widgets/controls",
       "_model_module_version": "1.5.0",
       "_model_name": "HTMLModel",
       "_view_count": null,
       "_view_module": "@jupyter-widgets/controls",
       "_view_module_version": "1.5.0",
       "_view_name": "HTMLView",
       "description": "",
       "description_tooltip": null,
       "layout": "IPY_MODEL_731074f07ced463eb83c04c281d038f1",
       "placeholder": "​",
       "style": "IPY_MODEL_3cd4a91afc0943f0b1ce690744dfbcc3",
       "value": " 561754112/? [00:05&lt;00:00, 98870020.36it/s]"
      }
     },
     "115886aa01814299afd2ed5ee0ac3ad8": {
      "model_module": "@jupyter-widgets/base",
      "model_module_version": "1.2.0",
      "model_name": "LayoutModel",
      "state": {
       "_model_module": "@jupyter-widgets/base",
       "_model_module_version": "1.2.0",
       "_model_name": "LayoutModel",
       "_view_count": null,
       "_view_module": "@jupyter-widgets/base",
       "_view_module_version": "1.2.0",
       "_view_name": "LayoutView",
       "align_content": null,
       "align_items": null,
       "align_self": null,
       "border": null,
       "bottom": null,
       "display": null,
       "flex": null,
       "flex_flow": null,
       "grid_area": null,
       "grid_auto_columns": null,
       "grid_auto_flow": null,
       "grid_auto_rows": null,
       "grid_column": null,
       "grid_gap": null,
       "grid_row": null,
       "grid_template_areas": null,
       "grid_template_columns": null,
       "grid_template_rows": null,
       "height": null,
       "justify_content": null,
       "justify_items": null,
       "left": null,
       "margin": null,
       "max_height": null,
       "max_width": null,
       "min_height": null,
       "min_width": null,
       "object_fit": null,
       "object_position": null,
       "order": null,
       "overflow": null,
       "overflow_x": null,
       "overflow_y": null,
       "padding": null,
       "right": null,
       "top": null,
       "visibility": null,
       "width": null
      }
     },
     "1588c9d826c64b5e88ff2c62cc7fea45": {
      "model_module": "@jupyter-widgets/controls",
      "model_module_version": "1.5.0",
      "model_name": "DescriptionStyleModel",
      "state": {
       "_model_module": "@jupyter-widgets/controls",
       "_model_module_version": "1.5.0",
       "_model_name": "DescriptionStyleModel",
       "_view_count": null,
       "_view_module": "@jupyter-widgets/base",
       "_view_module_version": "1.2.0",
       "_view_name": "StyleView",
       "description_width": ""
      }
     },
     "1fe3d760efa24858be89c9e34275d5dd": {
      "model_module": "@jupyter-widgets/base",
      "model_module_version": "1.2.0",
      "model_name": "LayoutModel",
      "state": {
       "_model_module": "@jupyter-widgets/base",
       "_model_module_version": "1.2.0",
       "_model_name": "LayoutModel",
       "_view_count": null,
       "_view_module": "@jupyter-widgets/base",
       "_view_module_version": "1.2.0",
       "_view_name": "LayoutView",
       "align_content": null,
       "align_items": null,
       "align_self": null,
       "border": null,
       "bottom": null,
       "display": null,
       "flex": null,
       "flex_flow": null,
       "grid_area": null,
       "grid_auto_columns": null,
       "grid_auto_flow": null,
       "grid_auto_rows": null,
       "grid_column": null,
       "grid_gap": null,
       "grid_row": null,
       "grid_template_areas": null,
       "grid_template_columns": null,
       "grid_template_rows": null,
       "height": null,
       "justify_content": null,
       "justify_items": null,
       "left": null,
       "margin": null,
       "max_height": null,
       "max_width": null,
       "min_height": null,
       "min_width": null,
       "object_fit": null,
       "object_position": null,
       "order": null,
       "overflow": null,
       "overflow_x": null,
       "overflow_y": null,
       "padding": null,
       "right": null,
       "top": null,
       "visibility": null,
       "width": null
      }
     },
     "288fae5f9994456786d235a40e78fdb9": {
      "model_module": "@jupyter-widgets/controls",
      "model_module_version": "1.5.0",
      "model_name": "ProgressStyleModel",
      "state": {
       "_model_module": "@jupyter-widgets/controls",
       "_model_module_version": "1.5.0",
       "_model_name": "ProgressStyleModel",
       "_view_count": null,
       "_view_module": "@jupyter-widgets/base",
       "_view_module_version": "1.2.0",
       "_view_name": "StyleView",
       "bar_color": null,
       "description_width": ""
      }
     },
     "29a7efedb7bb41078adab46701a3aa7f": {
      "model_module": "@jupyter-widgets/controls",
      "model_module_version": "1.5.0",
      "model_name": "FloatProgressModel",
      "state": {
       "_dom_classes": [],
       "_model_module": "@jupyter-widgets/controls",
       "_model_module_version": "1.5.0",
       "_model_name": "FloatProgressModel",
       "_view_count": null,
       "_view_module": "@jupyter-widgets/controls",
       "_view_module_version": "1.5.0",
       "_view_name": "ProgressView",
       "bar_style": "success",
       "description": "",
       "description_tooltip": null,
       "layout": "IPY_MODEL_115886aa01814299afd2ed5ee0ac3ad8",
       "max": 561753746.0,
       "min": 0.0,
       "orientation": "horizontal",
       "style": "IPY_MODEL_288fae5f9994456786d235a40e78fdb9",
       "value": 561753746.0
      }
     },
     "34efc36e29184b64807f0081aaa20faf": {
      "model_module": "@jupyter-widgets/base",
      "model_module_version": "1.2.0",
      "model_name": "LayoutModel",
      "state": {
       "_model_module": "@jupyter-widgets/base",
       "_model_module_version": "1.2.0",
       "_model_name": "LayoutModel",
       "_view_count": null,
       "_view_module": "@jupyter-widgets/base",
       "_view_module_version": "1.2.0",
       "_view_name": "LayoutView",
       "align_content": null,
       "align_items": null,
       "align_self": null,
       "border": null,
       "bottom": null,
       "display": null,
       "flex": null,
       "flex_flow": null,
       "grid_area": null,
       "grid_auto_columns": null,
       "grid_auto_flow": null,
       "grid_auto_rows": null,
       "grid_column": null,
       "grid_gap": null,
       "grid_row": null,
       "grid_template_areas": null,
       "grid_template_columns": null,
       "grid_template_rows": null,
       "height": null,
       "justify_content": null,
       "justify_items": null,
       "left": null,
       "margin": null,
       "max_height": null,
       "max_width": null,
       "min_height": null,
       "min_width": null,
       "object_fit": null,
       "object_position": null,
       "order": null,
       "overflow": null,
       "overflow_x": null,
       "overflow_y": null,
       "padding": null,
       "right": null,
       "top": null,
       "visibility": null,
       "width": null
      }
     },
     "3cd4a91afc0943f0b1ce690744dfbcc3": {
      "model_module": "@jupyter-widgets/controls",
      "model_module_version": "1.5.0",
      "model_name": "DescriptionStyleModel",
      "state": {
       "_model_module": "@jupyter-widgets/controls",
       "_model_module_version": "1.5.0",
       "_model_name": "DescriptionStyleModel",
       "_view_count": null,
       "_view_module": "@jupyter-widgets/base",
       "_view_module_version": "1.2.0",
       "_view_name": "StyleView",
       "description_width": ""
      }
     },
     "731074f07ced463eb83c04c281d038f1": {
      "model_module": "@jupyter-widgets/base",
      "model_module_version": "1.2.0",
      "model_name": "LayoutModel",
      "state": {
       "_model_module": "@jupyter-widgets/base",
       "_model_module_version": "1.2.0",
       "_model_name": "LayoutModel",
       "_view_count": null,
       "_view_module": "@jupyter-widgets/base",
       "_view_module_version": "1.2.0",
       "_view_name": "LayoutView",
       "align_content": null,
       "align_items": null,
       "align_self": null,
       "border": null,
       "bottom": null,
       "display": null,
       "flex": null,
       "flex_flow": null,
       "grid_area": null,
       "grid_auto_columns": null,
       "grid_auto_flow": null,
       "grid_auto_rows": null,
       "grid_column": null,
       "grid_gap": null,
       "grid_row": null,
       "grid_template_areas": null,
       "grid_template_columns": null,
       "grid_template_rows": null,
       "height": null,
       "justify_content": null,
       "justify_items": null,
       "left": null,
       "margin": null,
       "max_height": null,
       "max_width": null,
       "min_height": null,
       "min_width": null,
       "object_fit": null,
       "object_position": null,
       "order": null,
       "overflow": null,
       "overflow_x": null,
       "overflow_y": null,
       "padding": null,
       "right": null,
       "top": null,
       "visibility": null,
       "width": null
      }
     },
     "8c303cfa10f14bd3ba12cb1c686867f6": {
      "model_module": "@jupyter-widgets/controls",
      "model_module_version": "1.5.0",
      "model_name": "HBoxModel",
      "state": {
       "_dom_classes": [],
       "_model_module": "@jupyter-widgets/controls",
       "_model_module_version": "1.5.0",
       "_model_name": "HBoxModel",
       "_view_count": null,
       "_view_module": "@jupyter-widgets/controls",
       "_view_module_version": "1.5.0",
       "_view_name": "HBoxView",
       "box_style": "",
       "children": [
        "IPY_MODEL_9f0b35c8a68b4eb880b154c5114af595",
        "IPY_MODEL_29a7efedb7bb41078adab46701a3aa7f",
        "IPY_MODEL_08670732a57c47a0a20cf55ffa7d539d"
       ],
       "layout": "IPY_MODEL_34efc36e29184b64807f0081aaa20faf"
      }
     },
     "9f0b35c8a68b4eb880b154c5114af595": {
      "model_module": "@jupyter-widgets/controls",
      "model_module_version": "1.5.0",
      "model_name": "HTMLModel",
      "state": {
       "_dom_classes": [],
       "_model_module": "@jupyter-widgets/controls",
       "_model_module_version": "1.5.0",
       "_model_name": "HTMLModel",
       "_view_count": null,
       "_view_module": "@jupyter-widgets/controls",
       "_view_module_version": "1.5.0",
       "_view_name": "HTMLView",
       "description": "",
       "description_tooltip": null,
       "layout": "IPY_MODEL_1fe3d760efa24858be89c9e34275d5dd",
       "placeholder": "​",
       "style": "IPY_MODEL_1588c9d826c64b5e88ff2c62cc7fea45",
       "value": ""
      }
     }
    },
    "version_major": 2,
    "version_minor": 0
   }
  }
 },
 "nbformat": 4,
 "nbformat_minor": 5
}
